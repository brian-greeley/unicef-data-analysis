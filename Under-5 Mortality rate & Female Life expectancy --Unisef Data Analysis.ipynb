{
 "cells": [
  {
   "cell_type": "markdown",
   "metadata": {},
   "source": [
    "# Explore the data"
   ]
  },
  {
   "cell_type": "markdown",
   "metadata": {},
   "source": [
    "## Import relevant libraries"
   ]
  },
  {
   "cell_type": "code",
   "execution_count": 1,
   "metadata": {},
   "outputs": [],
   "source": [
    "import pandas as pd\n",
    "import numpy as np\n",
    "import matplotlib.pyplot as plt\n",
    "import seaborn\n",
    "seaborn.set()"
   ]
  },
  {
   "cell_type": "markdown",
   "metadata": {},
   "source": [
    "## Load the data"
   ]
  },
  {
   "cell_type": "code",
   "execution_count": 2,
   "metadata": {},
   "outputs": [
    {
     "data": {
      "text/html": [
       "<div>\n",
       "<style scoped>\n",
       "    .dataframe tbody tr th:only-of-type {\n",
       "        vertical-align: middle;\n",
       "    }\n",
       "\n",
       "    .dataframe tbody tr th {\n",
       "        vertical-align: top;\n",
       "    }\n",
       "\n",
       "    .dataframe thead th {\n",
       "        text-align: right;\n",
       "    }\n",
       "</style>\n",
       "<table border=\"1\" class=\"dataframe\">\n",
       "  <thead>\n",
       "    <tr style=\"text-align: right;\">\n",
       "      <th></th>\n",
       "      <th>Under-5 mortality rate (deaths per 1,000 live births) 2018</th>\n",
       "      <th>Life expectancy: female 2018</th>\n",
       "      <th>GDP per capita (current US$) 2018</th>\n",
       "      <th>At least basic drinking water services (%) 2017</th>\n",
       "      <th>At least basic sanitation services (%) 2017</th>\n",
       "    </tr>\n",
       "    <tr>\n",
       "      <th>Country</th>\n",
       "      <th></th>\n",
       "      <th></th>\n",
       "      <th></th>\n",
       "      <th></th>\n",
       "      <th></th>\n",
       "    </tr>\n",
       "  </thead>\n",
       "  <tbody>\n",
       "    <tr>\n",
       "      <th>Afghanistan</th>\n",
       "      <td>62.0</td>\n",
       "      <td>66.0</td>\n",
       "      <td>556.3</td>\n",
       "      <td>67.0</td>\n",
       "      <td>43.0</td>\n",
       "    </tr>\n",
       "    <tr>\n",
       "      <th>Albania</th>\n",
       "      <td>9.0</td>\n",
       "      <td>80.0</td>\n",
       "      <td>4532.9</td>\n",
       "      <td>91.0</td>\n",
       "      <td>98.0</td>\n",
       "    </tr>\n",
       "    <tr>\n",
       "      <th>Algeria</th>\n",
       "      <td>23.0</td>\n",
       "      <td>78.0</td>\n",
       "      <td>4048.3</td>\n",
       "      <td>94.0</td>\n",
       "      <td>88.0</td>\n",
       "    </tr>\n",
       "    <tr>\n",
       "      <th>Andorra</th>\n",
       "      <td>3.0</td>\n",
       "      <td>NaN</td>\n",
       "      <td>39134.4</td>\n",
       "      <td>100.0</td>\n",
       "      <td>100.0</td>\n",
       "    </tr>\n",
       "    <tr>\n",
       "      <th>Angola</th>\n",
       "      <td>77.0</td>\n",
       "      <td>64.0</td>\n",
       "      <td>4095.8</td>\n",
       "      <td>56.0</td>\n",
       "      <td>50.0</td>\n",
       "    </tr>\n",
       "    <tr>\n",
       "      <th>...</th>\n",
       "      <td>...</td>\n",
       "      <td>...</td>\n",
       "      <td>...</td>\n",
       "      <td>...</td>\n",
       "      <td>...</td>\n",
       "    </tr>\n",
       "    <tr>\n",
       "      <th>Venezuela (Bolivarian Republic of)</th>\n",
       "      <td>25.0</td>\n",
       "      <td>76.0</td>\n",
       "      <td>16054.5</td>\n",
       "      <td>96.0</td>\n",
       "      <td>94.0</td>\n",
       "    </tr>\n",
       "    <tr>\n",
       "      <th>Viet Nam</th>\n",
       "      <td>21.0</td>\n",
       "      <td>79.0</td>\n",
       "      <td>2365.6</td>\n",
       "      <td>95.0</td>\n",
       "      <td>84.0</td>\n",
       "    </tr>\n",
       "    <tr>\n",
       "      <th>Yemen</th>\n",
       "      <td>55.0</td>\n",
       "      <td>68.0</td>\n",
       "      <td>963.5</td>\n",
       "      <td>63.0</td>\n",
       "      <td>59.0</td>\n",
       "    </tr>\n",
       "    <tr>\n",
       "      <th>Zambia</th>\n",
       "      <td>58.0</td>\n",
       "      <td>66.0</td>\n",
       "      <td>1534.9</td>\n",
       "      <td>60.0</td>\n",
       "      <td>26.0</td>\n",
       "    </tr>\n",
       "    <tr>\n",
       "      <th>Zimbabwe</th>\n",
       "      <td>46.0</td>\n",
       "      <td>63.0</td>\n",
       "      <td>1602.4</td>\n",
       "      <td>64.0</td>\n",
       "      <td>36.0</td>\n",
       "    </tr>\n",
       "  </tbody>\n",
       "</table>\n",
       "<p>202 rows × 5 columns</p>\n",
       "</div>"
      ],
      "text/plain": [
       "                                    Under-5 mortality rate (deaths per 1,000 live births) 2018  \\\n",
       "Country                                                                                          \n",
       "Afghanistan                                                                      62.0            \n",
       "Albania                                                                           9.0            \n",
       "Algeria                                                                          23.0            \n",
       "Andorra                                                                           3.0            \n",
       "Angola                                                                           77.0            \n",
       "...                                                                               ...            \n",
       "Venezuela (Bolivarian Republic of)                                               25.0            \n",
       "Viet Nam                                                                         21.0            \n",
       "Yemen                                                                            55.0            \n",
       "Zambia                                                                           58.0            \n",
       "Zimbabwe                                                                         46.0            \n",
       "\n",
       "                                    Life expectancy: female 2018  \\\n",
       "Country                                                            \n",
       "Afghanistan                                                 66.0   \n",
       "Albania                                                     80.0   \n",
       "Algeria                                                     78.0   \n",
       "Andorra                                                      NaN   \n",
       "Angola                                                      64.0   \n",
       "...                                                          ...   \n",
       "Venezuela (Bolivarian Republic of)                          76.0   \n",
       "Viet Nam                                                    79.0   \n",
       "Yemen                                                       68.0   \n",
       "Zambia                                                      66.0   \n",
       "Zimbabwe                                                    63.0   \n",
       "\n",
       "                                    GDP per capita (current US$) 2018  \\\n",
       "Country                                                                 \n",
       "Afghanistan                                                     556.3   \n",
       "Albania                                                        4532.9   \n",
       "Algeria                                                        4048.3   \n",
       "Andorra                                                       39134.4   \n",
       "Angola                                                         4095.8   \n",
       "...                                                               ...   \n",
       "Venezuela (Bolivarian Republic of)                            16054.5   \n",
       "Viet Nam                                                       2365.6   \n",
       "Yemen                                                           963.5   \n",
       "Zambia                                                         1534.9   \n",
       "Zimbabwe                                                       1602.4   \n",
       "\n",
       "                                    At least basic drinking water services (%) 2017  \\\n",
       "Country                                                                               \n",
       "Afghanistan                                                                    67.0   \n",
       "Albania                                                                        91.0   \n",
       "Algeria                                                                        94.0   \n",
       "Andorra                                                                       100.0   \n",
       "Angola                                                                         56.0   \n",
       "...                                                                             ...   \n",
       "Venezuela (Bolivarian Republic of)                                             96.0   \n",
       "Viet Nam                                                                       95.0   \n",
       "Yemen                                                                          63.0   \n",
       "Zambia                                                                         60.0   \n",
       "Zimbabwe                                                                       64.0   \n",
       "\n",
       "                                    At least basic sanitation services (%) 2017  \n",
       "Country                                                                          \n",
       "Afghanistan                                                                43.0  \n",
       "Albania                                                                    98.0  \n",
       "Algeria                                                                    88.0  \n",
       "Andorra                                                                   100.0  \n",
       "Angola                                                                     50.0  \n",
       "...                                                                         ...  \n",
       "Venezuela (Bolivarian Republic of)                                         94.0  \n",
       "Viet Nam                                                                   84.0  \n",
       "Yemen                                                                      59.0  \n",
       "Zambia                                                                     26.0  \n",
       "Zimbabwe                                                                   36.0  \n",
       "\n",
       "[202 rows x 5 columns]"
      ]
     },
     "execution_count": 2,
     "metadata": {},
     "output_type": "execute_result"
    }
   ],
   "source": [
    "raw_data = pd.read_csv('unisef_data.csv', index_col='Country')\n",
    "raw_data"
   ]
  },
  {
   "cell_type": "markdown",
   "metadata": {},
   "source": [
    "# Cluster Analysis"
   ]
  },
  {
   "cell_type": "markdown",
   "metadata": {},
   "source": [
    "### Import relevant libraries"
   ]
  },
  {
   "cell_type": "code",
   "execution_count": 3,
   "metadata": {},
   "outputs": [],
   "source": [
    "from sklearn.cluster import KMeans"
   ]
  },
  {
   "cell_type": "markdown",
   "metadata": {},
   "source": [
    "## Under-5 Mortality rate & Life expectancy: females"
   ]
  },
  {
   "cell_type": "markdown",
   "metadata": {},
   "source": [
    "### Selecting the features"
   ]
  },
  {
   "cell_type": "code",
   "execution_count": 4,
   "metadata": {},
   "outputs": [
    {
     "data": {
      "text/html": [
       "<div>\n",
       "<style scoped>\n",
       "    .dataframe tbody tr th:only-of-type {\n",
       "        vertical-align: middle;\n",
       "    }\n",
       "\n",
       "    .dataframe tbody tr th {\n",
       "        vertical-align: top;\n",
       "    }\n",
       "\n",
       "    .dataframe thead th {\n",
       "        text-align: right;\n",
       "    }\n",
       "</style>\n",
       "<table border=\"1\" class=\"dataframe\">\n",
       "  <thead>\n",
       "    <tr style=\"text-align: right;\">\n",
       "      <th></th>\n",
       "      <th>Under-5 mortality rate (deaths per 1,000 live births) 2018</th>\n",
       "      <th>Life expectancy: female 2018</th>\n",
       "    </tr>\n",
       "    <tr>\n",
       "      <th>Country</th>\n",
       "      <th></th>\n",
       "      <th></th>\n",
       "    </tr>\n",
       "  </thead>\n",
       "  <tbody>\n",
       "    <tr>\n",
       "      <th>Afghanistan</th>\n",
       "      <td>62.0</td>\n",
       "      <td>66.0</td>\n",
       "    </tr>\n",
       "    <tr>\n",
       "      <th>Albania</th>\n",
       "      <td>9.0</td>\n",
       "      <td>80.0</td>\n",
       "    </tr>\n",
       "    <tr>\n",
       "      <th>Algeria</th>\n",
       "      <td>23.0</td>\n",
       "      <td>78.0</td>\n",
       "    </tr>\n",
       "    <tr>\n",
       "      <th>Andorra</th>\n",
       "      <td>3.0</td>\n",
       "      <td>NaN</td>\n",
       "    </tr>\n",
       "    <tr>\n",
       "      <th>Angola</th>\n",
       "      <td>77.0</td>\n",
       "      <td>64.0</td>\n",
       "    </tr>\n",
       "    <tr>\n",
       "      <th>...</th>\n",
       "      <td>...</td>\n",
       "      <td>...</td>\n",
       "    </tr>\n",
       "    <tr>\n",
       "      <th>Venezuela (Bolivarian Republic of)</th>\n",
       "      <td>25.0</td>\n",
       "      <td>76.0</td>\n",
       "    </tr>\n",
       "    <tr>\n",
       "      <th>Viet Nam</th>\n",
       "      <td>21.0</td>\n",
       "      <td>79.0</td>\n",
       "    </tr>\n",
       "    <tr>\n",
       "      <th>Yemen</th>\n",
       "      <td>55.0</td>\n",
       "      <td>68.0</td>\n",
       "    </tr>\n",
       "    <tr>\n",
       "      <th>Zambia</th>\n",
       "      <td>58.0</td>\n",
       "      <td>66.0</td>\n",
       "    </tr>\n",
       "    <tr>\n",
       "      <th>Zimbabwe</th>\n",
       "      <td>46.0</td>\n",
       "      <td>63.0</td>\n",
       "    </tr>\n",
       "  </tbody>\n",
       "</table>\n",
       "<p>202 rows × 2 columns</p>\n",
       "</div>"
      ],
      "text/plain": [
       "                                    Under-5 mortality rate (deaths per 1,000 live births) 2018  \\\n",
       "Country                                                                                          \n",
       "Afghanistan                                                                      62.0            \n",
       "Albania                                                                           9.0            \n",
       "Algeria                                                                          23.0            \n",
       "Andorra                                                                           3.0            \n",
       "Angola                                                                           77.0            \n",
       "...                                                                               ...            \n",
       "Venezuela (Bolivarian Republic of)                                               25.0            \n",
       "Viet Nam                                                                         21.0            \n",
       "Yemen                                                                            55.0            \n",
       "Zambia                                                                           58.0            \n",
       "Zimbabwe                                                                         46.0            \n",
       "\n",
       "                                    Life expectancy: female 2018  \n",
       "Country                                                           \n",
       "Afghanistan                                                 66.0  \n",
       "Albania                                                     80.0  \n",
       "Algeria                                                     78.0  \n",
       "Andorra                                                      NaN  \n",
       "Angola                                                      64.0  \n",
       "...                                                          ...  \n",
       "Venezuela (Bolivarian Republic of)                          76.0  \n",
       "Viet Nam                                                    79.0  \n",
       "Yemen                                                       68.0  \n",
       "Zambia                                                      66.0  \n",
       "Zimbabwe                                                    63.0  \n",
       "\n",
       "[202 rows x 2 columns]"
      ]
     },
     "execution_count": 4,
     "metadata": {},
     "output_type": "execute_result"
    }
   ],
   "source": [
    "x = raw_data.iloc[:,:2]\n",
    "x"
   ]
  },
  {
   "cell_type": "markdown",
   "metadata": {},
   "source": [
    "### Preprocessing"
   ]
  },
  {
   "cell_type": "code",
   "execution_count": 5,
   "metadata": {},
   "outputs": [
    {
     "data": {
      "text/plain": [
       "Under-5 mortality rate (deaths per 1,000 live births) 2018     7\n",
       "Life expectancy: female 2018                                  18\n",
       "dtype: int64"
      ]
     },
     "execution_count": 5,
     "metadata": {},
     "output_type": "execute_result"
    }
   ],
   "source": [
    "x.isnull().sum()"
   ]
  },
  {
   "cell_type": "markdown",
   "metadata": {},
   "source": [
    "#### Remove rows with missing values"
   ]
  },
  {
   "cell_type": "code",
   "execution_count": 7,
   "metadata": {},
   "outputs": [
    {
     "data": {
      "text/html": [
       "<div>\n",
       "<style scoped>\n",
       "    .dataframe tbody tr th:only-of-type {\n",
       "        vertical-align: middle;\n",
       "    }\n",
       "\n",
       "    .dataframe tbody tr th {\n",
       "        vertical-align: top;\n",
       "    }\n",
       "\n",
       "    .dataframe thead th {\n",
       "        text-align: right;\n",
       "    }\n",
       "</style>\n",
       "<table border=\"1\" class=\"dataframe\">\n",
       "  <thead>\n",
       "    <tr style=\"text-align: right;\">\n",
       "      <th></th>\n",
       "      <th>Under-5 mortality rate (deaths per 1,000 live births) 2018</th>\n",
       "      <th>Life expectancy: female 2018</th>\n",
       "    </tr>\n",
       "  </thead>\n",
       "  <tbody>\n",
       "    <tr>\n",
       "      <th>count</th>\n",
       "      <td>184.000000</td>\n",
       "      <td>184.000000</td>\n",
       "    </tr>\n",
       "    <tr>\n",
       "      <th>mean</th>\n",
       "      <td>28.657609</td>\n",
       "      <td>74.608696</td>\n",
       "    </tr>\n",
       "    <tr>\n",
       "      <th>std</th>\n",
       "      <td>28.859508</td>\n",
       "      <td>7.786715</td>\n",
       "    </tr>\n",
       "    <tr>\n",
       "      <th>min</th>\n",
       "      <td>2.000000</td>\n",
       "      <td>55.000000</td>\n",
       "    </tr>\n",
       "    <tr>\n",
       "      <th>25%</th>\n",
       "      <td>7.000000</td>\n",
       "      <td>69.000000</td>\n",
       "    </tr>\n",
       "    <tr>\n",
       "      <th>50%</th>\n",
       "      <td>16.500000</td>\n",
       "      <td>76.000000</td>\n",
       "    </tr>\n",
       "    <tr>\n",
       "      <th>75%</th>\n",
       "      <td>46.000000</td>\n",
       "      <td>80.000000</td>\n",
       "    </tr>\n",
       "    <tr>\n",
       "      <th>max</th>\n",
       "      <td>122.000000</td>\n",
       "      <td>88.000000</td>\n",
       "    </tr>\n",
       "  </tbody>\n",
       "</table>\n",
       "</div>"
      ],
      "text/plain": [
       "       Under-5 mortality rate (deaths per 1,000 live births) 2018  \\\n",
       "count                                         184.000000            \n",
       "mean                                           28.657609            \n",
       "std                                            28.859508            \n",
       "min                                             2.000000            \n",
       "25%                                             7.000000            \n",
       "50%                                            16.500000            \n",
       "75%                                            46.000000            \n",
       "max                                           122.000000            \n",
       "\n",
       "       Life expectancy: female 2018  \n",
       "count                    184.000000  \n",
       "mean                      74.608696  \n",
       "std                        7.786715  \n",
       "min                       55.000000  \n",
       "25%                       69.000000  \n",
       "50%                       76.000000  \n",
       "75%                       80.000000  \n",
       "max                       88.000000  "
      ]
     },
     "execution_count": 7,
     "metadata": {},
     "output_type": "execute_result"
    }
   ],
   "source": [
    "x_no_mv = x.dropna(axis=0)\n",
    "x_no_mv.describe(include='all')"
   ]
  },
  {
   "cell_type": "markdown",
   "metadata": {},
   "source": [
    "### Use Elbow Method to determine optimal number of clusters"
   ]
  },
  {
   "cell_type": "code",
   "execution_count": 11,
   "metadata": {},
   "outputs": [
    {
     "data": {
      "text/plain": [
       "[163511.25543478262,\n",
       " 41253.38636363637,\n",
       " 19790.32251562185,\n",
       " 12180.169884939622,\n",
       " 7301.924875505758,\n",
       " 5020.818724712107,\n",
       " 4074.3727372085787,\n",
       " 3195.820437656279,\n",
       " 2512.105136933563]"
      ]
     },
     "execution_count": 11,
     "metadata": {},
     "output_type": "execute_result"
    }
   ],
   "source": [
    "wcss = []\n",
    "\n",
    "for i in range(1,10):\n",
    "    kmeans = KMeans(i)\n",
    "    kmeans.fit(x_no_mv)\n",
    "    wcss.append(kmeans.inertia_)\n",
    "\n",
    "wcss"
   ]
  },
  {
   "cell_type": "code",
   "execution_count": 12,
   "metadata": {},
   "outputs": [
    {
     "data": {
      "text/plain": [
       "Text(0, 0.5, 'WCSS')"
      ]
     },
     "execution_count": 12,
     "metadata": {},
     "output_type": "execute_result"
    },
    {
     "data": {
      "image/png": "[encoded data removed]",
      "text/plain": [
       "<Figure size 432x288 with 1 Axes>"
      ]
     },
     "metadata": {},
     "output_type": "display_data"
    }
   ],
   "source": [
    "plt.plot(range(1,10), wcss)\n",
    "plt.xlabel('Number of Clusters')\n",
    "plt.ylabel('WCSS')"
   ]
  },
  {
   "cell_type": "markdown",
   "metadata": {},
   "source": [
    "It appears that the optimal number of clusters may be 2 or 3 according to the elbow method"
   ]
  },
  {
   "cell_type": "markdown",
   "metadata": {},
   "source": [
    "### Clustering"
   ]
  },
  {
   "cell_type": "markdown",
   "metadata": {},
   "source": [
    "#### 2 clusters"
   ]
  },
  {
   "cell_type": "code",
   "execution_count": 13,
   "metadata": {},
   "outputs": [
    {
     "data": {
      "text/plain": [
       "array([0, 1, 1, 0, 1, 1, 1, 1, 1, 1, 1, 1, 1, 1, 1, 1, 1, 0, 1, 1, 1, 1,\n",
       "       1, 1, 1, 0, 0, 1, 1, 0, 1, 0, 0, 1, 1, 1, 0, 0, 1, 0, 1, 1, 1, 1,\n",
       "       1, 0, 1, 0, 1, 1, 1, 1, 0, 0, 1, 0, 0, 1, 1, 1, 0, 0, 1, 1, 0, 1,\n",
       "       1, 1, 0, 0, 1, 0, 1, 1, 1, 1, 1, 1, 1, 1, 1, 1, 1, 1, 1, 1, 0, 0,\n",
       "       1, 1, 0, 1, 1, 0, 0, 1, 1, 1, 0, 0, 1, 1, 0, 1, 0, 1, 1, 1, 1, 1,\n",
       "       1, 0, 0, 0, 1, 1, 1, 1, 0, 0, 1, 1, 1, 0, 1, 0, 1, 1, 1, 1, 1, 1,\n",
       "       1, 1, 1, 1, 1, 1, 1, 1, 1, 1, 0, 1, 1, 0, 1, 1, 1, 1, 0, 1, 0, 1,\n",
       "       1, 1, 0, 1, 1, 1, 1, 1, 1, 0, 0, 1, 1, 1, 1, 0, 0, 1, 1, 1, 0, 1,\n",
       "       1, 1, 1, 1, 1, 0, 0, 0])"
      ]
     },
     "execution_count": 13,
     "metadata": {},
     "output_type": "execute_result"
    }
   ],
   "source": [
    "kmeans = KMeans(2)\n",
    "results = kmeans.fit_predict(x_no_mv)\n",
    "results"
   ]
  },
  {
   "cell_type": "code",
   "execution_count": 14,
   "metadata": {},
   "outputs": [
    {
     "data": {
      "text/html": [
       "<div>\n",
       "<style scoped>\n",
       "    .dataframe tbody tr th:only-of-type {\n",
       "        vertical-align: middle;\n",
       "    }\n",
       "\n",
       "    .dataframe tbody tr th {\n",
       "        vertical-align: top;\n",
       "    }\n",
       "\n",
       "    .dataframe thead th {\n",
       "        text-align: right;\n",
       "    }\n",
       "</style>\n",
       "<table border=\"1\" class=\"dataframe\">\n",
       "  <thead>\n",
       "    <tr style=\"text-align: right;\">\n",
       "      <th></th>\n",
       "      <th>Under-5 mortality rate (deaths per 1,000 live births) 2018</th>\n",
       "      <th>Life expectancy: female 2018</th>\n",
       "      <th>cluster</th>\n",
       "    </tr>\n",
       "    <tr>\n",
       "      <th>Country</th>\n",
       "      <th></th>\n",
       "      <th></th>\n",
       "      <th></th>\n",
       "    </tr>\n",
       "  </thead>\n",
       "  <tbody>\n",
       "    <tr>\n",
       "      <th>Afghanistan</th>\n",
       "      <td>62.0</td>\n",
       "      <td>66.0</td>\n",
       "      <td>0</td>\n",
       "    </tr>\n",
       "    <tr>\n",
       "      <th>Albania</th>\n",
       "      <td>9.0</td>\n",
       "      <td>80.0</td>\n",
       "      <td>1</td>\n",
       "    </tr>\n",
       "    <tr>\n",
       "      <th>Algeria</th>\n",
       "      <td>23.0</td>\n",
       "      <td>78.0</td>\n",
       "      <td>1</td>\n",
       "    </tr>\n",
       "    <tr>\n",
       "      <th>Angola</th>\n",
       "      <td>77.0</td>\n",
       "      <td>64.0</td>\n",
       "      <td>0</td>\n",
       "    </tr>\n",
       "    <tr>\n",
       "      <th>Antigua and Barbuda</th>\n",
       "      <td>6.0</td>\n",
       "      <td>78.0</td>\n",
       "      <td>1</td>\n",
       "    </tr>\n",
       "    <tr>\n",
       "      <th>...</th>\n",
       "      <td>...</td>\n",
       "      <td>...</td>\n",
       "      <td>...</td>\n",
       "    </tr>\n",
       "    <tr>\n",
       "      <th>Venezuela (Bolivarian Republic of)</th>\n",
       "      <td>25.0</td>\n",
       "      <td>76.0</td>\n",
       "      <td>1</td>\n",
       "    </tr>\n",
       "    <tr>\n",
       "      <th>Viet Nam</th>\n",
       "      <td>21.0</td>\n",
       "      <td>79.0</td>\n",
       "      <td>1</td>\n",
       "    </tr>\n",
       "    <tr>\n",
       "      <th>Yemen</th>\n",
       "      <td>55.0</td>\n",
       "      <td>68.0</td>\n",
       "      <td>0</td>\n",
       "    </tr>\n",
       "    <tr>\n",
       "      <th>Zambia</th>\n",
       "      <td>58.0</td>\n",
       "      <td>66.0</td>\n",
       "      <td>0</td>\n",
       "    </tr>\n",
       "    <tr>\n",
       "      <th>Zimbabwe</th>\n",
       "      <td>46.0</td>\n",
       "      <td>63.0</td>\n",
       "      <td>0</td>\n",
       "    </tr>\n",
       "  </tbody>\n",
       "</table>\n",
       "<p>184 rows × 3 columns</p>\n",
       "</div>"
      ],
      "text/plain": [
       "                                    Under-5 mortality rate (deaths per 1,000 live births) 2018  \\\n",
       "Country                                                                                          \n",
       "Afghanistan                                                                      62.0            \n",
       "Albania                                                                           9.0            \n",
       "Algeria                                                                          23.0            \n",
       "Angola                                                                           77.0            \n",
       "Antigua and Barbuda                                                               6.0            \n",
       "...                                                                               ...            \n",
       "Venezuela (Bolivarian Republic of)                                               25.0            \n",
       "Viet Nam                                                                         21.0            \n",
       "Yemen                                                                            55.0            \n",
       "Zambia                                                                           58.0            \n",
       "Zimbabwe                                                                         46.0            \n",
       "\n",
       "                                    Life expectancy: female 2018  cluster  \n",
       "Country                                                                    \n",
       "Afghanistan                                                 66.0        0  \n",
       "Albania                                                     80.0        1  \n",
       "Algeria                                                     78.0        1  \n",
       "Angola                                                      64.0        0  \n",
       "Antigua and Barbuda                                         78.0        1  \n",
       "...                                                          ...      ...  \n",
       "Venezuela (Bolivarian Republic of)                          76.0        1  \n",
       "Viet Nam                                                    79.0        1  \n",
       "Yemen                                                       68.0        0  \n",
       "Zambia                                                      66.0        0  \n",
       "Zimbabwe                                                    63.0        0  \n",
       "\n",
       "[184 rows x 3 columns]"
      ]
     },
     "execution_count": 14,
     "metadata": {},
     "output_type": "execute_result"
    }
   ],
   "source": [
    "x_w_clusters = x_no_mv.copy()\n",
    "x_w_clusters['cluster'] = results\n",
    "x_w_clusters"
   ]
  },
  {
   "cell_type": "code",
   "execution_count": 15,
   "metadata": {},
   "outputs": [
    {
     "data": {
      "text/plain": [
       "Text(0, 0.5, 'Life expectancy: female 2018')"
      ]
     },
     "execution_count": 15,
     "metadata": {},
     "output_type": "execute_result"
    },
    {
     "data": {
      "image/png": "[encoded data removed]",
      "text/plain": [
       "<Figure size 432x288 with 1 Axes>"
      ]
     },
     "metadata": {},
     "output_type": "display_data"
    }
   ],
   "source": [
    "plt.scatter(x_w_clusters['Under-5 mortality rate (deaths per 1,000 live births) 2018'],x_w_clusters['Life expectancy: female 2018'],c=x_w_clusters['cluster'],cmap='rainbow')\n",
    "plt.xlabel('Under-5 mortality rate (deaths per 1,000 live births) 2018')\n",
    "plt.ylabel('Life expectancy: female 2018')"
   ]
  },
  {
   "cell_type": "markdown",
   "metadata": {},
   "source": [
    "##### Analysis of plot and clusters"
   ]
  },
  {
   "cell_type": "markdown",
   "metadata": {},
   "source": [
    "The data seems to be relatively linear with an inverse relationship between Under-5 mortality rate and Life exprectancy of females. The two clusters could be labeled as \"Countries with low under-5 mortality rates and high female life expectancy\" and \"Countries with high under-5 mortality rates and low female life expectancy\""
   ]
  },
  {
   "cell_type": "markdown",
   "metadata": {},
   "source": [
    "#### 3 clusters"
   ]
  },
  {
   "cell_type": "code",
   "execution_count": 16,
   "metadata": {},
   "outputs": [
    {
     "data": {
      "text/plain": [
       "array([1, 0, 0, 2, 0, 0, 0, 0, 0, 0, 0, 0, 1, 0, 0, 0, 0, 2, 1, 0, 0, 1,\n",
       "       0, 0, 0, 2, 1, 0, 0, 2, 0, 2, 2, 0, 0, 0, 1, 1, 0, 2, 0, 0, 0, 0,\n",
       "       0, 2, 0, 1, 0, 0, 0, 0, 2, 1, 0, 1, 1, 0, 0, 0, 1, 1, 0, 0, 1, 0,\n",
       "       0, 0, 2, 2, 1, 1, 0, 0, 0, 1, 0, 0, 0, 0, 0, 0, 0, 0, 0, 0, 1, 1,\n",
       "       0, 0, 1, 0, 0, 2, 2, 0, 0, 0, 1, 1, 0, 0, 2, 0, 2, 0, 0, 1, 0, 0,\n",
       "       0, 2, 1, 1, 1, 0, 0, 0, 2, 2, 0, 0, 0, 1, 0, 1, 0, 0, 0, 0, 0, 0,\n",
       "       0, 0, 0, 0, 1, 0, 0, 0, 1, 0, 1, 0, 0, 2, 0, 0, 0, 0, 2, 1, 2, 0,\n",
       "       0, 0, 1, 0, 0, 0, 0, 1, 0, 1, 2, 0, 0, 0, 0, 1, 1, 0, 0, 0, 1, 0,\n",
       "       0, 0, 0, 0, 0, 1, 1, 1])"
      ]
     },
     "execution_count": 16,
     "metadata": {},
     "output_type": "execute_result"
    }
   ],
   "source": [
    "kmeans = KMeans(3)\n",
    "results = kmeans.fit_predict(x_no_mv)\n",
    "results"
   ]
  },
  {
   "cell_type": "code",
   "execution_count": 17,
   "metadata": {},
   "outputs": [
    {
     "data": {
      "text/html": [
       "<div>\n",
       "<style scoped>\n",
       "    .dataframe tbody tr th:only-of-type {\n",
       "        vertical-align: middle;\n",
       "    }\n",
       "\n",
       "    .dataframe tbody tr th {\n",
       "        vertical-align: top;\n",
       "    }\n",
       "\n",
       "    .dataframe thead th {\n",
       "        text-align: right;\n",
       "    }\n",
       "</style>\n",
       "<table border=\"1\" class=\"dataframe\">\n",
       "  <thead>\n",
       "    <tr style=\"text-align: right;\">\n",
       "      <th></th>\n",
       "      <th>Under-5 mortality rate (deaths per 1,000 live births) 2018</th>\n",
       "      <th>Life expectancy: female 2018</th>\n",
       "      <th>cluster</th>\n",
       "    </tr>\n",
       "    <tr>\n",
       "      <th>Country</th>\n",
       "      <th></th>\n",
       "      <th></th>\n",
       "      <th></th>\n",
       "    </tr>\n",
       "  </thead>\n",
       "  <tbody>\n",
       "    <tr>\n",
       "      <th>Afghanistan</th>\n",
       "      <td>62.0</td>\n",
       "      <td>66.0</td>\n",
       "      <td>1</td>\n",
       "    </tr>\n",
       "    <tr>\n",
       "      <th>Albania</th>\n",
       "      <td>9.0</td>\n",
       "      <td>80.0</td>\n",
       "      <td>0</td>\n",
       "    </tr>\n",
       "    <tr>\n",
       "      <th>Algeria</th>\n",
       "      <td>23.0</td>\n",
       "      <td>78.0</td>\n",
       "      <td>0</td>\n",
       "    </tr>\n",
       "    <tr>\n",
       "      <th>Angola</th>\n",
       "      <td>77.0</td>\n",
       "      <td>64.0</td>\n",
       "      <td>2</td>\n",
       "    </tr>\n",
       "    <tr>\n",
       "      <th>Antigua and Barbuda</th>\n",
       "      <td>6.0</td>\n",
       "      <td>78.0</td>\n",
       "      <td>0</td>\n",
       "    </tr>\n",
       "    <tr>\n",
       "      <th>...</th>\n",
       "      <td>...</td>\n",
       "      <td>...</td>\n",
       "      <td>...</td>\n",
       "    </tr>\n",
       "    <tr>\n",
       "      <th>Venezuela (Bolivarian Republic of)</th>\n",
       "      <td>25.0</td>\n",
       "      <td>76.0</td>\n",
       "      <td>0</td>\n",
       "    </tr>\n",
       "    <tr>\n",
       "      <th>Viet Nam</th>\n",
       "      <td>21.0</td>\n",
       "      <td>79.0</td>\n",
       "      <td>0</td>\n",
       "    </tr>\n",
       "    <tr>\n",
       "      <th>Yemen</th>\n",
       "      <td>55.0</td>\n",
       "      <td>68.0</td>\n",
       "      <td>1</td>\n",
       "    </tr>\n",
       "    <tr>\n",
       "      <th>Zambia</th>\n",
       "      <td>58.0</td>\n",
       "      <td>66.0</td>\n",
       "      <td>1</td>\n",
       "    </tr>\n",
       "    <tr>\n",
       "      <th>Zimbabwe</th>\n",
       "      <td>46.0</td>\n",
       "      <td>63.0</td>\n",
       "      <td>1</td>\n",
       "    </tr>\n",
       "  </tbody>\n",
       "</table>\n",
       "<p>184 rows × 3 columns</p>\n",
       "</div>"
      ],
      "text/plain": [
       "                                    Under-5 mortality rate (deaths per 1,000 live births) 2018  \\\n",
       "Country                                                                                          \n",
       "Afghanistan                                                                      62.0            \n",
       "Albania                                                                           9.0            \n",
       "Algeria                                                                          23.0            \n",
       "Angola                                                                           77.0            \n",
       "Antigua and Barbuda                                                               6.0            \n",
       "...                                                                               ...            \n",
       "Venezuela (Bolivarian Republic of)                                               25.0            \n",
       "Viet Nam                                                                         21.0            \n",
       "Yemen                                                                            55.0            \n",
       "Zambia                                                                           58.0            \n",
       "Zimbabwe                                                                         46.0            \n",
       "\n",
       "                                    Life expectancy: female 2018  cluster  \n",
       "Country                                                                    \n",
       "Afghanistan                                                 66.0        1  \n",
       "Albania                                                     80.0        0  \n",
       "Algeria                                                     78.0        0  \n",
       "Angola                                                      64.0        2  \n",
       "Antigua and Barbuda                                         78.0        0  \n",
       "...                                                          ...      ...  \n",
       "Venezuela (Bolivarian Republic of)                          76.0        0  \n",
       "Viet Nam                                                    79.0        0  \n",
       "Yemen                                                       68.0        1  \n",
       "Zambia                                                      66.0        1  \n",
       "Zimbabwe                                                    63.0        1  \n",
       "\n",
       "[184 rows x 3 columns]"
      ]
     },
     "execution_count": 17,
     "metadata": {},
     "output_type": "execute_result"
    }
   ],
   "source": [
    "x_w_clusters = x_no_mv.copy()\n",
    "x_w_clusters['cluster'] = results\n",
    "x_w_clusters"
   ]
  },
  {
   "cell_type": "code",
   "execution_count": 18,
   "metadata": {},
   "outputs": [
    {
     "data": {
      "text/plain": [
       "Text(0, 0.5, 'Life expectancy: female 2018')"
      ]
     },
     "execution_count": 18,
     "metadata": {},
     "output_type": "execute_result"
    },
    {
     "data": {
      "image/png": "[encoded data removed]",
      "text/plain": [
       "<Figure size 432x288 with 1 Axes>"
      ]
     },
     "metadata": {},
     "output_type": "display_data"
    }
   ],
   "source": [
    "plt.scatter(x_w_clusters['Under-5 mortality rate (deaths per 1,000 live births) 2018'],x_w_clusters['Life expectancy: female 2018'],c=x_w_clusters['cluster'],cmap='rainbow')\n",
    "plt.xlabel('Under-5 mortality rate (deaths per 1,000 live births) 2018')\n",
    "plt.ylabel('Life expectancy: female 2018')"
   ]
  },
  {
   "cell_type": "markdown",
   "metadata": {},
   "source": [
    "##### Analysis of plot and clusters"
   ]
  },
  {
   "cell_type": "markdown",
   "metadata": {},
   "source": [
    "The data seems to be relatively linear with an inverse relationship between Under-5 mortality rate and Life exprectancy of females. The three clusters could be labeled as \"Countries with low under-5 mortality rates and high female life expectancy\", \"Countries with adverage under-5 mortality rates and adverage female life expectancy\", and \"Countries with high under-5 mortality rates and low female life expectancy\""
   ]
  },
  {
   "cell_type": "code",
   "execution_count": null,
   "metadata": {},
   "outputs": [],
   "source": []
  }
 ],
 "metadata": {
  "kernelspec": {
   "display_name": "Python 3",
   "language": "python",
   "name": "python3"
  },
  "language_info": {
   "codemirror_mode": {
    "name": "ipython",
    "version": 3
   },
   "file_extension": ".py",
   "mimetype": "text/x-python",
   "name": "python",
   "nbconvert_exporter": "python",
   "pygments_lexer": "ipython3",
   "version": "3.7.6"
  }
 },
 "nbformat": 4,
 "nbformat_minor": 4
}
