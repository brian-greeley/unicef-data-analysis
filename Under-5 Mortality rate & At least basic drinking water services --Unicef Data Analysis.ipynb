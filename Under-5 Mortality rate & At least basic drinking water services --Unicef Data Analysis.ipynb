{
 "cells": [
  {
   "cell_type": "markdown",
   "metadata": {},
   "source": [
    "# Explore the data"
   ]
  },
  {
   "cell_type": "markdown",
   "metadata": {},
   "source": [
    "## Import relevant libraries"
   ]
  },
  {
   "cell_type": "code",
   "execution_count": 1,
   "metadata": {},
   "outputs": [],
   "source": [
    "import pandas as pd\n",
    "import numpy as np\n",
    "import matplotlib.pyplot as plt\n",
    "import seaborn\n",
    "seaborn.set()"
   ]
  },
  {
   "cell_type": "markdown",
   "metadata": {},
   "source": [
    "## Load the data"
   ]
  },
  {
   "cell_type": "code",
   "execution_count": 2,
   "metadata": {},
   "outputs": [
    {
     "data": {
      "text/html": [
       "<div>\n",
       "<style scoped>\n",
       "    .dataframe tbody tr th:only-of-type {\n",
       "        vertical-align: middle;\n",
       "    }\n",
       "\n",
       "    .dataframe tbody tr th {\n",
       "        vertical-align: top;\n",
       "    }\n",
       "\n",
       "    .dataframe thead th {\n",
       "        text-align: right;\n",
       "    }\n",
       "</style>\n",
       "<table border=\"1\" class=\"dataframe\">\n",
       "  <thead>\n",
       "    <tr style=\"text-align: right;\">\n",
       "      <th></th>\n",
       "      <th>Under-5 mortality rate (deaths per 1,000 live births) 2018</th>\n",
       "      <th>Life expectancy: female 2018</th>\n",
       "      <th>GDP per capita (current US$) 2018</th>\n",
       "      <th>At least basic drinking water services (%) 2017</th>\n",
       "      <th>At least basic sanitation services (%) 2017</th>\n",
       "    </tr>\n",
       "    <tr>\n",
       "      <th>Country</th>\n",
       "      <th></th>\n",
       "      <th></th>\n",
       "      <th></th>\n",
       "      <th></th>\n",
       "      <th></th>\n",
       "    </tr>\n",
       "  </thead>\n",
       "  <tbody>\n",
       "    <tr>\n",
       "      <th>Afghanistan</th>\n",
       "      <td>62.0</td>\n",
       "      <td>66.0</td>\n",
       "      <td>556.3</td>\n",
       "      <td>67.0</td>\n",
       "      <td>43.0</td>\n",
       "    </tr>\n",
       "    <tr>\n",
       "      <th>Albania</th>\n",
       "      <td>9.0</td>\n",
       "      <td>80.0</td>\n",
       "      <td>4532.9</td>\n",
       "      <td>91.0</td>\n",
       "      <td>98.0</td>\n",
       "    </tr>\n",
       "    <tr>\n",
       "      <th>Algeria</th>\n",
       "      <td>23.0</td>\n",
       "      <td>78.0</td>\n",
       "      <td>4048.3</td>\n",
       "      <td>94.0</td>\n",
       "      <td>88.0</td>\n",
       "    </tr>\n",
       "    <tr>\n",
       "      <th>Andorra</th>\n",
       "      <td>3.0</td>\n",
       "      <td>NaN</td>\n",
       "      <td>39134.4</td>\n",
       "      <td>100.0</td>\n",
       "      <td>100.0</td>\n",
       "    </tr>\n",
       "    <tr>\n",
       "      <th>Angola</th>\n",
       "      <td>77.0</td>\n",
       "      <td>64.0</td>\n",
       "      <td>4095.8</td>\n",
       "      <td>56.0</td>\n",
       "      <td>50.0</td>\n",
       "    </tr>\n",
       "    <tr>\n",
       "      <th>...</th>\n",
       "      <td>...</td>\n",
       "      <td>...</td>\n",
       "      <td>...</td>\n",
       "      <td>...</td>\n",
       "      <td>...</td>\n",
       "    </tr>\n",
       "    <tr>\n",
       "      <th>Venezuela (Bolivarian Republic of)</th>\n",
       "      <td>25.0</td>\n",
       "      <td>76.0</td>\n",
       "      <td>16054.5</td>\n",
       "      <td>96.0</td>\n",
       "      <td>94.0</td>\n",
       "    </tr>\n",
       "    <tr>\n",
       "      <th>Viet Nam</th>\n",
       "      <td>21.0</td>\n",
       "      <td>79.0</td>\n",
       "      <td>2365.6</td>\n",
       "      <td>95.0</td>\n",
       "      <td>84.0</td>\n",
       "    </tr>\n",
       "    <tr>\n",
       "      <th>Yemen</th>\n",
       "      <td>55.0</td>\n",
       "      <td>68.0</td>\n",
       "      <td>963.5</td>\n",
       "      <td>63.0</td>\n",
       "      <td>59.0</td>\n",
       "    </tr>\n",
       "    <tr>\n",
       "      <th>Zambia</th>\n",
       "      <td>58.0</td>\n",
       "      <td>66.0</td>\n",
       "      <td>1534.9</td>\n",
       "      <td>60.0</td>\n",
       "      <td>26.0</td>\n",
       "    </tr>\n",
       "    <tr>\n",
       "      <th>Zimbabwe</th>\n",
       "      <td>46.0</td>\n",
       "      <td>63.0</td>\n",
       "      <td>1602.4</td>\n",
       "      <td>64.0</td>\n",
       "      <td>36.0</td>\n",
       "    </tr>\n",
       "  </tbody>\n",
       "</table>\n",
       "<p>202 rows × 5 columns</p>\n",
       "</div>"
      ],
      "text/plain": [
       "                                    Under-5 mortality rate (deaths per 1,000 live births) 2018  \\\n",
       "Country                                                                                          \n",
       "Afghanistan                                                                      62.0            \n",
       "Albania                                                                           9.0            \n",
       "Algeria                                                                          23.0            \n",
       "Andorra                                                                           3.0            \n",
       "Angola                                                                           77.0            \n",
       "...                                                                               ...            \n",
       "Venezuela (Bolivarian Republic of)                                               25.0            \n",
       "Viet Nam                                                                         21.0            \n",
       "Yemen                                                                            55.0            \n",
       "Zambia                                                                           58.0            \n",
       "Zimbabwe                                                                         46.0            \n",
       "\n",
       "                                    Life expectancy: female 2018  \\\n",
       "Country                                                            \n",
       "Afghanistan                                                 66.0   \n",
       "Albania                                                     80.0   \n",
       "Algeria                                                     78.0   \n",
       "Andorra                                                      NaN   \n",
       "Angola                                                      64.0   \n",
       "...                                                          ...   \n",
       "Venezuela (Bolivarian Republic of)                          76.0   \n",
       "Viet Nam                                                    79.0   \n",
       "Yemen                                                       68.0   \n",
       "Zambia                                                      66.0   \n",
       "Zimbabwe                                                    63.0   \n",
       "\n",
       "                                    GDP per capita (current US$) 2018  \\\n",
       "Country                                                                 \n",
       "Afghanistan                                                     556.3   \n",
       "Albania                                                        4532.9   \n",
       "Algeria                                                        4048.3   \n",
       "Andorra                                                       39134.4   \n",
       "Angola                                                         4095.8   \n",
       "...                                                               ...   \n",
       "Venezuela (Bolivarian Republic of)                            16054.5   \n",
       "Viet Nam                                                       2365.6   \n",
       "Yemen                                                           963.5   \n",
       "Zambia                                                         1534.9   \n",
       "Zimbabwe                                                       1602.4   \n",
       "\n",
       "                                    At least basic drinking water services (%) 2017  \\\n",
       "Country                                                                               \n",
       "Afghanistan                                                                    67.0   \n",
       "Albania                                                                        91.0   \n",
       "Algeria                                                                        94.0   \n",
       "Andorra                                                                       100.0   \n",
       "Angola                                                                         56.0   \n",
       "...                                                                             ...   \n",
       "Venezuela (Bolivarian Republic of)                                             96.0   \n",
       "Viet Nam                                                                       95.0   \n",
       "Yemen                                                                          63.0   \n",
       "Zambia                                                                         60.0   \n",
       "Zimbabwe                                                                       64.0   \n",
       "\n",
       "                                    At least basic sanitation services (%) 2017  \n",
       "Country                                                                          \n",
       "Afghanistan                                                                43.0  \n",
       "Albania                                                                    98.0  \n",
       "Algeria                                                                    88.0  \n",
       "Andorra                                                                   100.0  \n",
       "Angola                                                                     50.0  \n",
       "...                                                                         ...  \n",
       "Venezuela (Bolivarian Republic of)                                         94.0  \n",
       "Viet Nam                                                                   84.0  \n",
       "Yemen                                                                      59.0  \n",
       "Zambia                                                                     26.0  \n",
       "Zimbabwe                                                                   36.0  \n",
       "\n",
       "[202 rows x 5 columns]"
      ]
     },
     "execution_count": 2,
     "metadata": {},
     "output_type": "execute_result"
    }
   ],
   "source": [
    "raw_data = pd.read_csv('unicef_data.csv', index_col='Country')\n",
    "raw_data"
   ]
  },
  {
   "cell_type": "markdown",
   "metadata": {},
   "source": [
    "# Cluster Analysis"
   ]
  },
  {
   "cell_type": "markdown",
   "metadata": {},
   "source": [
    "### Import relevant libraries"
   ]
  },
  {
   "cell_type": "code",
   "execution_count": 3,
   "metadata": {},
   "outputs": [],
   "source": [
    "from sklearn.cluster import KMeans"
   ]
  },
  {
   "cell_type": "markdown",
   "metadata": {},
   "source": [
    "## Under-5 Mortality rate & At least basic drinking water services (%) 2017"
   ]
  },
  {
   "cell_type": "markdown",
   "metadata": {},
   "source": [
    "### Selecting the features"
   ]
  },
  {
   "cell_type": "code",
   "execution_count": 6,
   "metadata": {},
   "outputs": [
    {
     "data": {
      "text/html": [
       "<div>\n",
       "<style scoped>\n",
       "    .dataframe tbody tr th:only-of-type {\n",
       "        vertical-align: middle;\n",
       "    }\n",
       "\n",
       "    .dataframe tbody tr th {\n",
       "        vertical-align: top;\n",
       "    }\n",
       "\n",
       "    .dataframe thead th {\n",
       "        text-align: right;\n",
       "    }\n",
       "</style>\n",
       "<table border=\"1\" class=\"dataframe\">\n",
       "  <thead>\n",
       "    <tr style=\"text-align: right;\">\n",
       "      <th></th>\n",
       "      <th>Under-5 mortality rate (deaths per 1,000 live births) 2018</th>\n",
       "      <th>At least basic drinking water services (%) 2017</th>\n",
       "    </tr>\n",
       "    <tr>\n",
       "      <th>Country</th>\n",
       "      <th></th>\n",
       "      <th></th>\n",
       "    </tr>\n",
       "  </thead>\n",
       "  <tbody>\n",
       "    <tr>\n",
       "      <th>Afghanistan</th>\n",
       "      <td>62.0</td>\n",
       "      <td>67.0</td>\n",
       "    </tr>\n",
       "    <tr>\n",
       "      <th>Albania</th>\n",
       "      <td>9.0</td>\n",
       "      <td>91.0</td>\n",
       "    </tr>\n",
       "    <tr>\n",
       "      <th>Algeria</th>\n",
       "      <td>23.0</td>\n",
       "      <td>94.0</td>\n",
       "    </tr>\n",
       "    <tr>\n",
       "      <th>Andorra</th>\n",
       "      <td>3.0</td>\n",
       "      <td>100.0</td>\n",
       "    </tr>\n",
       "    <tr>\n",
       "      <th>Angola</th>\n",
       "      <td>77.0</td>\n",
       "      <td>56.0</td>\n",
       "    </tr>\n",
       "    <tr>\n",
       "      <th>...</th>\n",
       "      <td>...</td>\n",
       "      <td>...</td>\n",
       "    </tr>\n",
       "    <tr>\n",
       "      <th>Venezuela (Bolivarian Republic of)</th>\n",
       "      <td>25.0</td>\n",
       "      <td>96.0</td>\n",
       "    </tr>\n",
       "    <tr>\n",
       "      <th>Viet Nam</th>\n",
       "      <td>21.0</td>\n",
       "      <td>95.0</td>\n",
       "    </tr>\n",
       "    <tr>\n",
       "      <th>Yemen</th>\n",
       "      <td>55.0</td>\n",
       "      <td>63.0</td>\n",
       "    </tr>\n",
       "    <tr>\n",
       "      <th>Zambia</th>\n",
       "      <td>58.0</td>\n",
       "      <td>60.0</td>\n",
       "    </tr>\n",
       "    <tr>\n",
       "      <th>Zimbabwe</th>\n",
       "      <td>46.0</td>\n",
       "      <td>64.0</td>\n",
       "    </tr>\n",
       "  </tbody>\n",
       "</table>\n",
       "<p>202 rows × 2 columns</p>\n",
       "</div>"
      ],
      "text/plain": [
       "                                    Under-5 mortality rate (deaths per 1,000 live births) 2018  \\\n",
       "Country                                                                                          \n",
       "Afghanistan                                                                      62.0            \n",
       "Albania                                                                           9.0            \n",
       "Algeria                                                                          23.0            \n",
       "Andorra                                                                           3.0            \n",
       "Angola                                                                           77.0            \n",
       "...                                                                               ...            \n",
       "Venezuela (Bolivarian Republic of)                                               25.0            \n",
       "Viet Nam                                                                         21.0            \n",
       "Yemen                                                                            55.0            \n",
       "Zambia                                                                           58.0            \n",
       "Zimbabwe                                                                         46.0            \n",
       "\n",
       "                                    At least basic drinking water services (%) 2017  \n",
       "Country                                                                              \n",
       "Afghanistan                                                                    67.0  \n",
       "Albania                                                                        91.0  \n",
       "Algeria                                                                        94.0  \n",
       "Andorra                                                                       100.0  \n",
       "Angola                                                                         56.0  \n",
       "...                                                                             ...  \n",
       "Venezuela (Bolivarian Republic of)                                             96.0  \n",
       "Viet Nam                                                                       95.0  \n",
       "Yemen                                                                          63.0  \n",
       "Zambia                                                                         60.0  \n",
       "Zimbabwe                                                                       64.0  \n",
       "\n",
       "[202 rows x 2 columns]"
      ]
     },
     "execution_count": 6,
     "metadata": {},
     "output_type": "execute_result"
    }
   ],
   "source": [
    "x = raw_data.iloc[:,:4]\n",
    "x = x.drop('Life expectancy: female 2018', axis=1)\n",
    "x = x.drop('GDP per capita (current US$) 2018', axis=1)\n",
    "x"
   ]
  },
  {
   "cell_type": "markdown",
   "metadata": {},
   "source": [
    "### Preprocessing"
   ]
  },
  {
   "cell_type": "code",
   "execution_count": 7,
   "metadata": {},
   "outputs": [
    {
     "data": {
      "text/plain": [
       "Under-5 mortality rate (deaths per 1,000 live births) 2018    7\n",
       "At least basic drinking water services (%) 2017               7\n",
       "dtype: int64"
      ]
     },
     "execution_count": 7,
     "metadata": {},
     "output_type": "execute_result"
    }
   ],
   "source": [
    "x.isnull().sum()"
   ]
  },
  {
   "cell_type": "markdown",
   "metadata": {},
   "source": [
    "#### Remove rows with missing values"
   ]
  },
  {
   "cell_type": "code",
   "execution_count": 8,
   "metadata": {},
   "outputs": [
    {
     "data": {
      "text/html": [
       "<div>\n",
       "<style scoped>\n",
       "    .dataframe tbody tr th:only-of-type {\n",
       "        vertical-align: middle;\n",
       "    }\n",
       "\n",
       "    .dataframe tbody tr th {\n",
       "        vertical-align: top;\n",
       "    }\n",
       "\n",
       "    .dataframe thead th {\n",
       "        text-align: right;\n",
       "    }\n",
       "</style>\n",
       "<table border=\"1\" class=\"dataframe\">\n",
       "  <thead>\n",
       "    <tr style=\"text-align: right;\">\n",
       "      <th></th>\n",
       "      <th>Under-5 mortality rate (deaths per 1,000 live births) 2018</th>\n",
       "      <th>At least basic drinking water services (%) 2017</th>\n",
       "    </tr>\n",
       "  </thead>\n",
       "  <tbody>\n",
       "    <tr>\n",
       "      <th>count</th>\n",
       "      <td>190.000000</td>\n",
       "      <td>190.000000</td>\n",
       "    </tr>\n",
       "    <tr>\n",
       "      <th>mean</th>\n",
       "      <td>27.642105</td>\n",
       "      <td>87.905263</td>\n",
       "    </tr>\n",
       "    <tr>\n",
       "      <th>std</th>\n",
       "      <td>27.860733</td>\n",
       "      <td>15.922812</td>\n",
       "    </tr>\n",
       "    <tr>\n",
       "      <th>min</th>\n",
       "      <td>2.000000</td>\n",
       "      <td>39.000000</td>\n",
       "    </tr>\n",
       "    <tr>\n",
       "      <th>25%</th>\n",
       "      <td>7.000000</td>\n",
       "      <td>81.000000</td>\n",
       "    </tr>\n",
       "    <tr>\n",
       "      <th>50%</th>\n",
       "      <td>16.500000</td>\n",
       "      <td>96.000000</td>\n",
       "    </tr>\n",
       "    <tr>\n",
       "      <th>75%</th>\n",
       "      <td>43.250000</td>\n",
       "      <td>99.750000</td>\n",
       "    </tr>\n",
       "    <tr>\n",
       "      <th>max</th>\n",
       "      <td>122.000000</td>\n",
       "      <td>100.000000</td>\n",
       "    </tr>\n",
       "  </tbody>\n",
       "</table>\n",
       "</div>"
      ],
      "text/plain": [
       "       Under-5 mortality rate (deaths per 1,000 live births) 2018  \\\n",
       "count                                         190.000000            \n",
       "mean                                           27.642105            \n",
       "std                                            27.860733            \n",
       "min                                             2.000000            \n",
       "25%                                             7.000000            \n",
       "50%                                            16.500000            \n",
       "75%                                            43.250000            \n",
       "max                                           122.000000            \n",
       "\n",
       "       At least basic drinking water services (%) 2017  \n",
       "count                                       190.000000  \n",
       "mean                                         87.905263  \n",
       "std                                          15.922812  \n",
       "min                                          39.000000  \n",
       "25%                                          81.000000  \n",
       "50%                                          96.000000  \n",
       "75%                                          99.750000  \n",
       "max                                         100.000000  "
      ]
     },
     "execution_count": 8,
     "metadata": {},
     "output_type": "execute_result"
    }
   ],
   "source": [
    "x_no_mv = x.dropna(axis=0)\n",
    "x_no_mv.describe(include='all')"
   ]
  },
  {
   "cell_type": "markdown",
   "metadata": {},
   "source": [
    "### Use Elbow Method to determine optimal number of clusters"
   ]
  },
  {
   "cell_type": "code",
   "execution_count": 9,
   "metadata": {},
   "outputs": [
    {
     "data": {
      "text/plain": [
       "[194623.95789473684,\n",
       " 49319.082356346786,\n",
       " 31137.077195995564,\n",
       " 20813.524092643158,\n",
       " 16853.04550456546,\n",
       " 13432.555760252819,\n",
       " 11392.902843374937,\n",
       " 10208.838034188033,\n",
       " 9022.352478632478]"
      ]
     },
     "execution_count": 9,
     "metadata": {},
     "output_type": "execute_result"
    }
   ],
   "source": [
    "wcss = []\n",
    "\n",
    "for i in range(1,10):\n",
    "    kmeans = KMeans(i)\n",
    "    kmeans.fit(x_no_mv)\n",
    "    wcss.append(kmeans.inertia_)\n",
    "\n",
    "wcss"
   ]
  },
  {
   "cell_type": "code",
   "execution_count": 10,
   "metadata": {},
   "outputs": [
    {
     "data": {
      "text/plain": [
       "Text(0, 0.5, 'WCSS')"
      ]
     },
     "execution_count": 10,
     "metadata": {},
     "output_type": "execute_result"
    },
    {
     "data": {
      "image/png": "[encoded data removed]",
      "text/plain": [
       "<Figure size 432x288 with 1 Axes>"
      ]
     },
     "metadata": {},
     "output_type": "display_data"
    }
   ],
   "source": [
    "plt.plot(range(1,10), wcss)\n",
    "plt.xlabel('Number of Clusters')\n",
    "plt.ylabel('WCSS')"
   ]
  },
  {
   "cell_type": "markdown",
   "metadata": {},
   "source": [
    "It appears that the optimal number of clusters is 2 according to the elbow method"
   ]
  },
  {
   "cell_type": "markdown",
   "metadata": {},
   "source": [
    "### Clustering"
   ]
  },
  {
   "cell_type": "markdown",
   "metadata": {},
   "source": [
    "#### 2 clusters"
   ]
  },
  {
   "cell_type": "code",
   "execution_count": 11,
   "metadata": {},
   "outputs": [
    {
     "data": {
      "text/plain": [
       "array([1, 0, 0, 0, 1, 0, 0, 0, 0, 0, 0, 0, 0, 0, 0, 0, 0, 1, 0, 0, 0, 0,\n",
       "       0, 0, 0, 1, 1, 0, 0, 1, 0, 1, 0, 0, 0, 1, 1, 0, 0, 1, 0, 0, 0, 0,\n",
       "       0, 1, 0, 1, 0, 0, 0, 0, 1, 0, 1, 1, 0, 0, 0, 1, 1, 0, 0, 1, 0, 0,\n",
       "       0, 1, 1, 0, 1, 0, 0, 0, 0, 0, 0, 0, 0, 0, 0, 0, 0, 0, 0, 1, 1, 0,\n",
       "       0, 1, 0, 0, 1, 1, 0, 0, 0, 1, 1, 0, 0, 1, 0, 0, 1, 0, 0, 0, 0, 0,\n",
       "       0, 0, 1, 1, 0, 0, 0, 0, 0, 0, 1, 1, 0, 0, 0, 0, 1, 0, 0, 1, 0, 0,\n",
       "       0, 0, 0, 0, 0, 0, 0, 0, 1, 0, 0, 0, 0, 0, 0, 1, 0, 0, 1, 0, 0, 0,\n",
       "       0, 1, 0, 1, 0, 0, 0, 1, 0, 0, 0, 0, 0, 0, 1, 1, 0, 0, 0, 0, 0, 0,\n",
       "       1, 0, 0, 0, 1, 0, 0, 0, 0, 0, 0, 1, 1, 1])"
      ]
     },
     "execution_count": 11,
     "metadata": {},
     "output_type": "execute_result"
    }
   ],
   "source": [
    "kmeans = KMeans(2)\n",
    "results = kmeans.fit_predict(x_no_mv)\n",
    "results"
   ]
  },
  {
   "cell_type": "code",
   "execution_count": 12,
   "metadata": {},
   "outputs": [
    {
     "data": {
      "text/html": [
       "<div>\n",
       "<style scoped>\n",
       "    .dataframe tbody tr th:only-of-type {\n",
       "        vertical-align: middle;\n",
       "    }\n",
       "\n",
       "    .dataframe tbody tr th {\n",
       "        vertical-align: top;\n",
       "    }\n",
       "\n",
       "    .dataframe thead th {\n",
       "        text-align: right;\n",
       "    }\n",
       "</style>\n",
       "<table border=\"1\" class=\"dataframe\">\n",
       "  <thead>\n",
       "    <tr style=\"text-align: right;\">\n",
       "      <th></th>\n",
       "      <th>Under-5 mortality rate (deaths per 1,000 live births) 2018</th>\n",
       "      <th>At least basic drinking water services (%) 2017</th>\n",
       "      <th>cluster</th>\n",
       "    </tr>\n",
       "    <tr>\n",
       "      <th>Country</th>\n",
       "      <th></th>\n",
       "      <th></th>\n",
       "      <th></th>\n",
       "    </tr>\n",
       "  </thead>\n",
       "  <tbody>\n",
       "    <tr>\n",
       "      <th>Afghanistan</th>\n",
       "      <td>62.0</td>\n",
       "      <td>67.0</td>\n",
       "      <td>1</td>\n",
       "    </tr>\n",
       "    <tr>\n",
       "      <th>Albania</th>\n",
       "      <td>9.0</td>\n",
       "      <td>91.0</td>\n",
       "      <td>0</td>\n",
       "    </tr>\n",
       "    <tr>\n",
       "      <th>Algeria</th>\n",
       "      <td>23.0</td>\n",
       "      <td>94.0</td>\n",
       "      <td>0</td>\n",
       "    </tr>\n",
       "    <tr>\n",
       "      <th>Andorra</th>\n",
       "      <td>3.0</td>\n",
       "      <td>100.0</td>\n",
       "      <td>0</td>\n",
       "    </tr>\n",
       "    <tr>\n",
       "      <th>Angola</th>\n",
       "      <td>77.0</td>\n",
       "      <td>56.0</td>\n",
       "      <td>1</td>\n",
       "    </tr>\n",
       "    <tr>\n",
       "      <th>...</th>\n",
       "      <td>...</td>\n",
       "      <td>...</td>\n",
       "      <td>...</td>\n",
       "    </tr>\n",
       "    <tr>\n",
       "      <th>Venezuela (Bolivarian Republic of)</th>\n",
       "      <td>25.0</td>\n",
       "      <td>96.0</td>\n",
       "      <td>0</td>\n",
       "    </tr>\n",
       "    <tr>\n",
       "      <th>Viet Nam</th>\n",
       "      <td>21.0</td>\n",
       "      <td>95.0</td>\n",
       "      <td>0</td>\n",
       "    </tr>\n",
       "    <tr>\n",
       "      <th>Yemen</th>\n",
       "      <td>55.0</td>\n",
       "      <td>63.0</td>\n",
       "      <td>1</td>\n",
       "    </tr>\n",
       "    <tr>\n",
       "      <th>Zambia</th>\n",
       "      <td>58.0</td>\n",
       "      <td>60.0</td>\n",
       "      <td>1</td>\n",
       "    </tr>\n",
       "    <tr>\n",
       "      <th>Zimbabwe</th>\n",
       "      <td>46.0</td>\n",
       "      <td>64.0</td>\n",
       "      <td>1</td>\n",
       "    </tr>\n",
       "  </tbody>\n",
       "</table>\n",
       "<p>190 rows × 3 columns</p>\n",
       "</div>"
      ],
      "text/plain": [
       "                                    Under-5 mortality rate (deaths per 1,000 live births) 2018  \\\n",
       "Country                                                                                          \n",
       "Afghanistan                                                                      62.0            \n",
       "Albania                                                                           9.0            \n",
       "Algeria                                                                          23.0            \n",
       "Andorra                                                                           3.0            \n",
       "Angola                                                                           77.0            \n",
       "...                                                                               ...            \n",
       "Venezuela (Bolivarian Republic of)                                               25.0            \n",
       "Viet Nam                                                                         21.0            \n",
       "Yemen                                                                            55.0            \n",
       "Zambia                                                                           58.0            \n",
       "Zimbabwe                                                                         46.0            \n",
       "\n",
       "                                    At least basic drinking water services (%) 2017  \\\n",
       "Country                                                                               \n",
       "Afghanistan                                                                    67.0   \n",
       "Albania                                                                        91.0   \n",
       "Algeria                                                                        94.0   \n",
       "Andorra                                                                       100.0   \n",
       "Angola                                                                         56.0   \n",
       "...                                                                             ...   \n",
       "Venezuela (Bolivarian Republic of)                                             96.0   \n",
       "Viet Nam                                                                       95.0   \n",
       "Yemen                                                                          63.0   \n",
       "Zambia                                                                         60.0   \n",
       "Zimbabwe                                                                       64.0   \n",
       "\n",
       "                                    cluster  \n",
       "Country                                      \n",
       "Afghanistan                               1  \n",
       "Albania                                   0  \n",
       "Algeria                                   0  \n",
       "Andorra                                   0  \n",
       "Angola                                    1  \n",
       "...                                     ...  \n",
       "Venezuela (Bolivarian Republic of)        0  \n",
       "Viet Nam                                  0  \n",
       "Yemen                                     1  \n",
       "Zambia                                    1  \n",
       "Zimbabwe                                  1  \n",
       "\n",
       "[190 rows x 3 columns]"
      ]
     },
     "execution_count": 12,
     "metadata": {},
     "output_type": "execute_result"
    }
   ],
   "source": [
    "x_w_clusters = x_no_mv.copy()\n",
    "x_w_clusters['cluster'] = results\n",
    "x_w_clusters"
   ]
  },
  {
   "cell_type": "code",
   "execution_count": 17,
   "metadata": {},
   "outputs": [
    {
     "data": {
      "text/plain": [
       "Text(0, 0.5, 'At least basic drinking water services (%) 2017')"
      ]
     },
     "execution_count": 17,
     "metadata": {},
     "output_type": "execute_result"
    },
    {
     "data": {
      "image/png": "[encoded data removed]",
      "text/plain": [
       "<Figure size 432x288 with 1 Axes>"
      ]
     },
     "metadata": {},
     "output_type": "display_data"
    }
   ],
   "source": [
    "plt.scatter(x_w_clusters['Under-5 mortality rate (deaths per 1,000 live births) 2018'],x_w_clusters['At least basic drinking water services (%) 2017'],c=x_w_clusters['cluster'],cmap='rainbow')\n",
    "plt.xlabel('Under-5 mortality rate (deaths per 1,000 live births) 2018')\n",
    "plt.ylabel('At least basic drinking water services (%) 2017')"
   ]
  },
  {
   "cell_type": "markdown",
   "metadata": {},
   "source": [
    "##### Analysis of plot and clusters"
   ]
  },
  {
   "cell_type": "markdown",
   "metadata": {},
   "source": [
    "The data seems to be relatively linear with an inverse relationship between Under-5 mortality rate and at least basic drinking water services. The two clusters could be labeled as \"Countries with low under-5 mortality rates and high basic drinking water services\" and \"Countries with high under-5 mortality rates and low basic drinking water services\". Although there is a linear relationship, there appears to be some hederoscedasticity in the data making it nearly useless for linear regression"
   ]
  }
 ],
 "metadata": {
  "kernelspec": {
   "display_name": "Python 3",
   "language": "python",
   "name": "python3"
  },
  "language_info": {
   "codemirror_mode": {
    "name": "ipython",
    "version": 3
   },
   "file_extension": ".py",
   "mimetype": "text/x-python",
   "name": "python",
   "nbconvert_exporter": "python",
   "pygments_lexer": "ipython3",
   "version": "3.7.6"
  }
 },
 "nbformat": 4,
 "nbformat_minor": 4
}
