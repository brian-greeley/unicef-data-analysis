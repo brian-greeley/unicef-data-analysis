{
 "cells": [
  {
   "cell_type": "markdown",
   "metadata": {},
   "source": [
    "# Explore the data"
   ]
  },
  {
   "cell_type": "markdown",
   "metadata": {},
   "source": [
    "## Import relevant libraries"
   ]
  },
  {
   "cell_type": "code",
   "execution_count": 1,
   "metadata": {},
   "outputs": [],
   "source": [
    "import pandas as pd\n",
    "import numpy as np\n",
    "import matplotlib.pyplot as plt\n",
    "import seaborn\n",
    "seaborn.set()"
   ]
  },
  {
   "cell_type": "markdown",
   "metadata": {},
   "source": [
    "## Load the data"
   ]
  },
  {
   "cell_type": "code",
   "execution_count": 2,
   "metadata": {},
   "outputs": [
    {
     "data": {
      "text/html": [
       "<div>\n",
       "<style scoped>\n",
       "    .dataframe tbody tr th:only-of-type {\n",
       "        vertical-align: middle;\n",
       "    }\n",
       "\n",
       "    .dataframe tbody tr th {\n",
       "        vertical-align: top;\n",
       "    }\n",
       "\n",
       "    .dataframe thead th {\n",
       "        text-align: right;\n",
       "    }\n",
       "</style>\n",
       "<table border=\"1\" class=\"dataframe\">\n",
       "  <thead>\n",
       "    <tr style=\"text-align: right;\">\n",
       "      <th></th>\n",
       "      <th>Under-5 mortality rate (deaths per 1,000 live births) 2018</th>\n",
       "      <th>Life expectancy: female 2018</th>\n",
       "      <th>GDP per capita (current US$) 2018</th>\n",
       "      <th>At least basic drinking water services (%) 2017</th>\n",
       "      <th>At least basic sanitation services (%) 2017</th>\n",
       "    </tr>\n",
       "    <tr>\n",
       "      <th>Country</th>\n",
       "      <th></th>\n",
       "      <th></th>\n",
       "      <th></th>\n",
       "      <th></th>\n",
       "      <th></th>\n",
       "    </tr>\n",
       "  </thead>\n",
       "  <tbody>\n",
       "    <tr>\n",
       "      <th>Afghanistan</th>\n",
       "      <td>62.0</td>\n",
       "      <td>66.0</td>\n",
       "      <td>556.3</td>\n",
       "      <td>67.0</td>\n",
       "      <td>43.0</td>\n",
       "    </tr>\n",
       "    <tr>\n",
       "      <th>Albania</th>\n",
       "      <td>9.0</td>\n",
       "      <td>80.0</td>\n",
       "      <td>4532.9</td>\n",
       "      <td>91.0</td>\n",
       "      <td>98.0</td>\n",
       "    </tr>\n",
       "    <tr>\n",
       "      <th>Algeria</th>\n",
       "      <td>23.0</td>\n",
       "      <td>78.0</td>\n",
       "      <td>4048.3</td>\n",
       "      <td>94.0</td>\n",
       "      <td>88.0</td>\n",
       "    </tr>\n",
       "    <tr>\n",
       "      <th>Andorra</th>\n",
       "      <td>3.0</td>\n",
       "      <td>NaN</td>\n",
       "      <td>39134.4</td>\n",
       "      <td>100.0</td>\n",
       "      <td>100.0</td>\n",
       "    </tr>\n",
       "    <tr>\n",
       "      <th>Angola</th>\n",
       "      <td>77.0</td>\n",
       "      <td>64.0</td>\n",
       "      <td>4095.8</td>\n",
       "      <td>56.0</td>\n",
       "      <td>50.0</td>\n",
       "    </tr>\n",
       "    <tr>\n",
       "      <th>...</th>\n",
       "      <td>...</td>\n",
       "      <td>...</td>\n",
       "      <td>...</td>\n",
       "      <td>...</td>\n",
       "      <td>...</td>\n",
       "    </tr>\n",
       "    <tr>\n",
       "      <th>Venezuela (Bolivarian Republic of)</th>\n",
       "      <td>25.0</td>\n",
       "      <td>76.0</td>\n",
       "      <td>16054.5</td>\n",
       "      <td>96.0</td>\n",
       "      <td>94.0</td>\n",
       "    </tr>\n",
       "    <tr>\n",
       "      <th>Viet Nam</th>\n",
       "      <td>21.0</td>\n",
       "      <td>79.0</td>\n",
       "      <td>2365.6</td>\n",
       "      <td>95.0</td>\n",
       "      <td>84.0</td>\n",
       "    </tr>\n",
       "    <tr>\n",
       "      <th>Yemen</th>\n",
       "      <td>55.0</td>\n",
       "      <td>68.0</td>\n",
       "      <td>963.5</td>\n",
       "      <td>63.0</td>\n",
       "      <td>59.0</td>\n",
       "    </tr>\n",
       "    <tr>\n",
       "      <th>Zambia</th>\n",
       "      <td>58.0</td>\n",
       "      <td>66.0</td>\n",
       "      <td>1534.9</td>\n",
       "      <td>60.0</td>\n",
       "      <td>26.0</td>\n",
       "    </tr>\n",
       "    <tr>\n",
       "      <th>Zimbabwe</th>\n",
       "      <td>46.0</td>\n",
       "      <td>63.0</td>\n",
       "      <td>1602.4</td>\n",
       "      <td>64.0</td>\n",
       "      <td>36.0</td>\n",
       "    </tr>\n",
       "  </tbody>\n",
       "</table>\n",
       "<p>202 rows × 5 columns</p>\n",
       "</div>"
      ],
      "text/plain": [
       "                                    Under-5 mortality rate (deaths per 1,000 live births) 2018  \\\n",
       "Country                                                                                          \n",
       "Afghanistan                                                                      62.0            \n",
       "Albania                                                                           9.0            \n",
       "Algeria                                                                          23.0            \n",
       "Andorra                                                                           3.0            \n",
       "Angola                                                                           77.0            \n",
       "...                                                                               ...            \n",
       "Venezuela (Bolivarian Republic of)                                               25.0            \n",
       "Viet Nam                                                                         21.0            \n",
       "Yemen                                                                            55.0            \n",
       "Zambia                                                                           58.0            \n",
       "Zimbabwe                                                                         46.0            \n",
       "\n",
       "                                    Life expectancy: female 2018  \\\n",
       "Country                                                            \n",
       "Afghanistan                                                 66.0   \n",
       "Albania                                                     80.0   \n",
       "Algeria                                                     78.0   \n",
       "Andorra                                                      NaN   \n",
       "Angola                                                      64.0   \n",
       "...                                                          ...   \n",
       "Venezuela (Bolivarian Republic of)                          76.0   \n",
       "Viet Nam                                                    79.0   \n",
       "Yemen                                                       68.0   \n",
       "Zambia                                                      66.0   \n",
       "Zimbabwe                                                    63.0   \n",
       "\n",
       "                                    GDP per capita (current US$) 2018  \\\n",
       "Country                                                                 \n",
       "Afghanistan                                                     556.3   \n",
       "Albania                                                        4532.9   \n",
       "Algeria                                                        4048.3   \n",
       "Andorra                                                       39134.4   \n",
       "Angola                                                         4095.8   \n",
       "...                                                               ...   \n",
       "Venezuela (Bolivarian Republic of)                            16054.5   \n",
       "Viet Nam                                                       2365.6   \n",
       "Yemen                                                           963.5   \n",
       "Zambia                                                         1534.9   \n",
       "Zimbabwe                                                       1602.4   \n",
       "\n",
       "                                    At least basic drinking water services (%) 2017  \\\n",
       "Country                                                                               \n",
       "Afghanistan                                                                    67.0   \n",
       "Albania                                                                        91.0   \n",
       "Algeria                                                                        94.0   \n",
       "Andorra                                                                       100.0   \n",
       "Angola                                                                         56.0   \n",
       "...                                                                             ...   \n",
       "Venezuela (Bolivarian Republic of)                                             96.0   \n",
       "Viet Nam                                                                       95.0   \n",
       "Yemen                                                                          63.0   \n",
       "Zambia                                                                         60.0   \n",
       "Zimbabwe                                                                       64.0   \n",
       "\n",
       "                                    At least basic sanitation services (%) 2017  \n",
       "Country                                                                          \n",
       "Afghanistan                                                                43.0  \n",
       "Albania                                                                    98.0  \n",
       "Algeria                                                                    88.0  \n",
       "Andorra                                                                   100.0  \n",
       "Angola                                                                     50.0  \n",
       "...                                                                         ...  \n",
       "Venezuela (Bolivarian Republic of)                                         94.0  \n",
       "Viet Nam                                                                   84.0  \n",
       "Yemen                                                                      59.0  \n",
       "Zambia                                                                     26.0  \n",
       "Zimbabwe                                                                   36.0  \n",
       "\n",
       "[202 rows x 5 columns]"
      ]
     },
     "execution_count": 2,
     "metadata": {},
     "output_type": "execute_result"
    }
   ],
   "source": [
    "raw_data = pd.read_csv('unicef_data.csv', index_col='Country')\n",
    "raw_data"
   ]
  },
  {
   "cell_type": "markdown",
   "metadata": {},
   "source": [
    "# Cluster Analysis"
   ]
  },
  {
   "cell_type": "markdown",
   "metadata": {},
   "source": [
    "### Import relevant libraries"
   ]
  },
  {
   "cell_type": "code",
   "execution_count": 3,
   "metadata": {},
   "outputs": [],
   "source": [
    "from sklearn.cluster import KMeans"
   ]
  },
  {
   "cell_type": "markdown",
   "metadata": {},
   "source": [
    "## GDP per capita & Under-5 Mortality rate"
   ]
  },
  {
   "cell_type": "markdown",
   "metadata": {},
   "source": [
    "### Selecting the features"
   ]
  },
  {
   "cell_type": "code",
   "execution_count": 4,
   "metadata": {},
   "outputs": [
    {
     "data": {
      "text/html": [
       "<div>\n",
       "<style scoped>\n",
       "    .dataframe tbody tr th:only-of-type {\n",
       "        vertical-align: middle;\n",
       "    }\n",
       "\n",
       "    .dataframe tbody tr th {\n",
       "        vertical-align: top;\n",
       "    }\n",
       "\n",
       "    .dataframe thead th {\n",
       "        text-align: right;\n",
       "    }\n",
       "</style>\n",
       "<table border=\"1\" class=\"dataframe\">\n",
       "  <thead>\n",
       "    <tr style=\"text-align: right;\">\n",
       "      <th></th>\n",
       "      <th>Under-5 mortality rate (deaths per 1,000 live births) 2018</th>\n",
       "      <th>GDP per capita (current US$) 2018</th>\n",
       "    </tr>\n",
       "    <tr>\n",
       "      <th>Country</th>\n",
       "      <th></th>\n",
       "      <th></th>\n",
       "    </tr>\n",
       "  </thead>\n",
       "  <tbody>\n",
       "    <tr>\n",
       "      <th>Afghanistan</th>\n",
       "      <td>62.0</td>\n",
       "      <td>556.3</td>\n",
       "    </tr>\n",
       "    <tr>\n",
       "      <th>Albania</th>\n",
       "      <td>9.0</td>\n",
       "      <td>4532.9</td>\n",
       "    </tr>\n",
       "    <tr>\n",
       "      <th>Algeria</th>\n",
       "      <td>23.0</td>\n",
       "      <td>4048.3</td>\n",
       "    </tr>\n",
       "    <tr>\n",
       "      <th>Andorra</th>\n",
       "      <td>3.0</td>\n",
       "      <td>39134.4</td>\n",
       "    </tr>\n",
       "    <tr>\n",
       "      <th>Angola</th>\n",
       "      <td>77.0</td>\n",
       "      <td>4095.8</td>\n",
       "    </tr>\n",
       "    <tr>\n",
       "      <th>...</th>\n",
       "      <td>...</td>\n",
       "      <td>...</td>\n",
       "    </tr>\n",
       "    <tr>\n",
       "      <th>Venezuela (Bolivarian Republic of)</th>\n",
       "      <td>25.0</td>\n",
       "      <td>16054.5</td>\n",
       "    </tr>\n",
       "    <tr>\n",
       "      <th>Viet Nam</th>\n",
       "      <td>21.0</td>\n",
       "      <td>2365.6</td>\n",
       "    </tr>\n",
       "    <tr>\n",
       "      <th>Yemen</th>\n",
       "      <td>55.0</td>\n",
       "      <td>963.5</td>\n",
       "    </tr>\n",
       "    <tr>\n",
       "      <th>Zambia</th>\n",
       "      <td>58.0</td>\n",
       "      <td>1534.9</td>\n",
       "    </tr>\n",
       "    <tr>\n",
       "      <th>Zimbabwe</th>\n",
       "      <td>46.0</td>\n",
       "      <td>1602.4</td>\n",
       "    </tr>\n",
       "  </tbody>\n",
       "</table>\n",
       "<p>202 rows × 2 columns</p>\n",
       "</div>"
      ],
      "text/plain": [
       "                                    Under-5 mortality rate (deaths per 1,000 live births) 2018  \\\n",
       "Country                                                                                          \n",
       "Afghanistan                                                                      62.0            \n",
       "Albania                                                                           9.0            \n",
       "Algeria                                                                          23.0            \n",
       "Andorra                                                                           3.0            \n",
       "Angola                                                                           77.0            \n",
       "...                                                                               ...            \n",
       "Venezuela (Bolivarian Republic of)                                               25.0            \n",
       "Viet Nam                                                                         21.0            \n",
       "Yemen                                                                            55.0            \n",
       "Zambia                                                                           58.0            \n",
       "Zimbabwe                                                                         46.0            \n",
       "\n",
       "                                    GDP per capita (current US$) 2018  \n",
       "Country                                                                \n",
       "Afghanistan                                                     556.3  \n",
       "Albania                                                        4532.9  \n",
       "Algeria                                                        4048.3  \n",
       "Andorra                                                       39134.4  \n",
       "Angola                                                         4095.8  \n",
       "...                                                               ...  \n",
       "Venezuela (Bolivarian Republic of)                            16054.5  \n",
       "Viet Nam                                                       2365.6  \n",
       "Yemen                                                           963.5  \n",
       "Zambia                                                         1534.9  \n",
       "Zimbabwe                                                       1602.4  \n",
       "\n",
       "[202 rows x 2 columns]"
      ]
     },
     "execution_count": 4,
     "metadata": {},
     "output_type": "execute_result"
    }
   ],
   "source": [
    "x = raw_data.iloc[:,0:3]\n",
    "x = x.drop('Life expectancy: female 2018', axis=1)\n",
    "x"
   ]
  },
  {
   "cell_type": "markdown",
   "metadata": {},
   "source": [
    "### Preprocessing"
   ]
  },
  {
   "cell_type": "code",
   "execution_count": 5,
   "metadata": {},
   "outputs": [
    {
     "data": {
      "text/plain": [
       "Under-5 mortality rate (deaths per 1,000 live births) 2018     7\n",
       "GDP per capita (current US$) 2018                             11\n",
       "dtype: int64"
      ]
     },
     "execution_count": 5,
     "metadata": {},
     "output_type": "execute_result"
    }
   ],
   "source": [
    "x.isnull().sum()"
   ]
  },
  {
   "cell_type": "markdown",
   "metadata": {},
   "source": [
    "#### Remove rows with missing values"
   ]
  },
  {
   "cell_type": "code",
   "execution_count": 6,
   "metadata": {},
   "outputs": [
    {
     "data": {
      "text/html": [
       "<div>\n",
       "<style scoped>\n",
       "    .dataframe tbody tr th:only-of-type {\n",
       "        vertical-align: middle;\n",
       "    }\n",
       "\n",
       "    .dataframe tbody tr th {\n",
       "        vertical-align: top;\n",
       "    }\n",
       "\n",
       "    .dataframe thead th {\n",
       "        text-align: right;\n",
       "    }\n",
       "</style>\n",
       "<table border=\"1\" class=\"dataframe\">\n",
       "  <thead>\n",
       "    <tr style=\"text-align: right;\">\n",
       "      <th></th>\n",
       "      <th>Under-5 mortality rate (deaths per 1,000 live births) 2018</th>\n",
       "      <th>GDP per capita (current US$) 2018</th>\n",
       "    </tr>\n",
       "  </thead>\n",
       "  <tbody>\n",
       "    <tr>\n",
       "      <th>count</th>\n",
       "      <td>189.000000</td>\n",
       "      <td>189.000000</td>\n",
       "    </tr>\n",
       "    <tr>\n",
       "      <th>mean</th>\n",
       "      <td>28.423280</td>\n",
       "      <td>14093.158201</td>\n",
       "    </tr>\n",
       "    <tr>\n",
       "      <th>std</th>\n",
       "      <td>28.645498</td>\n",
       "      <td>21458.688225</td>\n",
       "    </tr>\n",
       "    <tr>\n",
       "      <th>min</th>\n",
       "      <td>2.000000</td>\n",
       "      <td>283.500000</td>\n",
       "    </tr>\n",
       "    <tr>\n",
       "      <th>25%</th>\n",
       "      <td>7.000000</td>\n",
       "      <td>1953.900000</td>\n",
       "    </tr>\n",
       "    <tr>\n",
       "      <th>50%</th>\n",
       "      <td>16.000000</td>\n",
       "      <td>5417.600000</td>\n",
       "    </tr>\n",
       "    <tr>\n",
       "      <th>75%</th>\n",
       "      <td>45.000000</td>\n",
       "      <td>16054.500000</td>\n",
       "    </tr>\n",
       "    <tr>\n",
       "      <th>max</th>\n",
       "      <td>122.000000</td>\n",
       "      <td>166726.100000</td>\n",
       "    </tr>\n",
       "  </tbody>\n",
       "</table>\n",
       "</div>"
      ],
      "text/plain": [
       "       Under-5 mortality rate (deaths per 1,000 live births) 2018  \\\n",
       "count                                         189.000000            \n",
       "mean                                           28.423280            \n",
       "std                                            28.645498            \n",
       "min                                             2.000000            \n",
       "25%                                             7.000000            \n",
       "50%                                            16.000000            \n",
       "75%                                            45.000000            \n",
       "max                                           122.000000            \n",
       "\n",
       "       GDP per capita (current US$) 2018  \n",
       "count                         189.000000  \n",
       "mean                        14093.158201  \n",
       "std                         21458.688225  \n",
       "min                           283.500000  \n",
       "25%                          1953.900000  \n",
       "50%                          5417.600000  \n",
       "75%                         16054.500000  \n",
       "max                        166726.100000  "
      ]
     },
     "execution_count": 6,
     "metadata": {},
     "output_type": "execute_result"
    }
   ],
   "source": [
    "x_no_mv = x.dropna(axis=0)\n",
    "x_no_mv.describe(include='all')"
   ]
  },
  {
   "cell_type": "markdown",
   "metadata": {},
   "source": [
    "### Use Elbow Method to determine optimal number of clusters"
   ]
  },
  {
   "cell_type": "code",
   "execution_count": 7,
   "metadata": {},
   "outputs": [
    {
     "data": {
      "text/plain": [
       "[86569510730.13736,\n",
       " 27613094075.13405,\n",
       " 13629385493.523005,\n",
       " 7785005278.535471,\n",
       " 4223914973.528387,\n",
       " 3047855746.52192,\n",
       " 1980613856.667017,\n",
       " 1373933427.1640203,\n",
       " 809789256.508098]"
      ]
     },
     "execution_count": 7,
     "metadata": {},
     "output_type": "execute_result"
    }
   ],
   "source": [
    "wcss = []\n",
    "\n",
    "for i in range(1,10):\n",
    "    kmeans = KMeans(i)\n",
    "    kmeans.fit(x_no_mv)\n",
    "    wcss.append(kmeans.inertia_)\n",
    "\n",
    "wcss"
   ]
  },
  {
   "cell_type": "code",
   "execution_count": 8,
   "metadata": {},
   "outputs": [
    {
     "data": {
      "text/plain": [
       "Text(0, 0.5, 'WCSS')"
      ]
     },
     "execution_count": 8,
     "metadata": {},
     "output_type": "execute_result"
    },
    {
     "data": {
      "image/png": "[encoded data removed]",
      "text/plain": [
       "<Figure size 432x288 with 1 Axes>"
      ]
     },
     "metadata": {},
     "output_type": "display_data"
    }
   ],
   "source": [
    "plt.plot(range(1,10), wcss)\n",
    "plt.xlabel('Number of Clusters')\n",
    "plt.ylabel('WCSS')"
   ]
  },
  {
   "cell_type": "markdown",
   "metadata": {},
   "source": [
    "It appears that the optimal number of clusters may be 2 or 3 according to the elbow method"
   ]
  },
  {
   "cell_type": "markdown",
   "metadata": {},
   "source": [
    "### Clustering"
   ]
  },
  {
   "cell_type": "markdown",
   "metadata": {},
   "source": [
    "#### 2 clusters"
   ]
  },
  {
   "cell_type": "code",
   "execution_count": 9,
   "metadata": {},
   "outputs": [
    {
     "data": {
      "text/plain": [
       "array([0, 0, 0, 1, 0, 0, 0, 0, 1, 1, 0, 0, 0, 0, 0, 0, 1, 0, 0, 0, 0, 0,\n",
       "       0, 0, 0, 0, 0, 0, 0, 0, 0, 1, 0, 0, 0, 0, 0, 0, 0, 0, 0, 0, 0, 0,\n",
       "       0, 0, 1, 0, 0, 0, 0, 0, 0, 0, 0, 0, 0, 0, 0, 1, 1, 0, 0, 0, 1, 0,\n",
       "       0, 0, 0, 0, 0, 0, 0, 0, 0, 1, 0, 0, 0, 0, 1, 1, 0, 0, 1, 0, 0, 0,\n",
       "       0, 0, 0, 0, 0, 0, 0, 0, 0, 0, 1, 0, 0, 0, 0, 0, 0, 0, 0, 0, 0, 0,\n",
       "       1, 0, 0, 0, 0, 0, 0, 0, 0, 1, 1, 0, 0, 0, 0, 1, 0, 0, 0, 0, 0, 0,\n",
       "       0, 0, 0, 0, 1, 0, 0, 0, 0, 0, 0, 0, 1, 0, 0, 0, 0, 0, 0, 1, 0, 0,\n",
       "       0, 0, 0, 0, 0, 0, 0, 0, 0, 1, 1, 0, 0, 0, 0, 0, 0, 0, 0, 0, 0, 0,\n",
       "       0, 1, 1, 0, 1, 0, 0, 0, 0, 0, 0, 0, 0])"
      ]
     },
     "execution_count": 9,
     "metadata": {},
     "output_type": "execute_result"
    }
   ],
   "source": [
    "kmeans = KMeans(2)\n",
    "results = kmeans.fit_predict(x_no_mv)\n",
    "results"
   ]
  },
  {
   "cell_type": "code",
   "execution_count": 10,
   "metadata": {},
   "outputs": [
    {
     "data": {
      "text/html": [
       "<div>\n",
       "<style scoped>\n",
       "    .dataframe tbody tr th:only-of-type {\n",
       "        vertical-align: middle;\n",
       "    }\n",
       "\n",
       "    .dataframe tbody tr th {\n",
       "        vertical-align: top;\n",
       "    }\n",
       "\n",
       "    .dataframe thead th {\n",
       "        text-align: right;\n",
       "    }\n",
       "</style>\n",
       "<table border=\"1\" class=\"dataframe\">\n",
       "  <thead>\n",
       "    <tr style=\"text-align: right;\">\n",
       "      <th></th>\n",
       "      <th>Under-5 mortality rate (deaths per 1,000 live births) 2018</th>\n",
       "      <th>GDP per capita (current US$) 2018</th>\n",
       "      <th>cluster</th>\n",
       "    </tr>\n",
       "    <tr>\n",
       "      <th>Country</th>\n",
       "      <th></th>\n",
       "      <th></th>\n",
       "      <th></th>\n",
       "    </tr>\n",
       "  </thead>\n",
       "  <tbody>\n",
       "    <tr>\n",
       "      <th>Afghanistan</th>\n",
       "      <td>62.0</td>\n",
       "      <td>556.3</td>\n",
       "      <td>0</td>\n",
       "    </tr>\n",
       "    <tr>\n",
       "      <th>Albania</th>\n",
       "      <td>9.0</td>\n",
       "      <td>4532.9</td>\n",
       "      <td>0</td>\n",
       "    </tr>\n",
       "    <tr>\n",
       "      <th>Algeria</th>\n",
       "      <td>23.0</td>\n",
       "      <td>4048.3</td>\n",
       "      <td>0</td>\n",
       "    </tr>\n",
       "    <tr>\n",
       "      <th>Andorra</th>\n",
       "      <td>3.0</td>\n",
       "      <td>39134.4</td>\n",
       "      <td>1</td>\n",
       "    </tr>\n",
       "    <tr>\n",
       "      <th>Angola</th>\n",
       "      <td>77.0</td>\n",
       "      <td>4095.8</td>\n",
       "      <td>0</td>\n",
       "    </tr>\n",
       "    <tr>\n",
       "      <th>...</th>\n",
       "      <td>...</td>\n",
       "      <td>...</td>\n",
       "      <td>...</td>\n",
       "    </tr>\n",
       "    <tr>\n",
       "      <th>Venezuela (Bolivarian Republic of)</th>\n",
       "      <td>25.0</td>\n",
       "      <td>16054.5</td>\n",
       "      <td>0</td>\n",
       "    </tr>\n",
       "    <tr>\n",
       "      <th>Viet Nam</th>\n",
       "      <td>21.0</td>\n",
       "      <td>2365.6</td>\n",
       "      <td>0</td>\n",
       "    </tr>\n",
       "    <tr>\n",
       "      <th>Yemen</th>\n",
       "      <td>55.0</td>\n",
       "      <td>963.5</td>\n",
       "      <td>0</td>\n",
       "    </tr>\n",
       "    <tr>\n",
       "      <th>Zambia</th>\n",
       "      <td>58.0</td>\n",
       "      <td>1534.9</td>\n",
       "      <td>0</td>\n",
       "    </tr>\n",
       "    <tr>\n",
       "      <th>Zimbabwe</th>\n",
       "      <td>46.0</td>\n",
       "      <td>1602.4</td>\n",
       "      <td>0</td>\n",
       "    </tr>\n",
       "  </tbody>\n",
       "</table>\n",
       "<p>189 rows × 3 columns</p>\n",
       "</div>"
      ],
      "text/plain": [
       "                                    Under-5 mortality rate (deaths per 1,000 live births) 2018  \\\n",
       "Country                                                                                          \n",
       "Afghanistan                                                                      62.0            \n",
       "Albania                                                                           9.0            \n",
       "Algeria                                                                          23.0            \n",
       "Andorra                                                                           3.0            \n",
       "Angola                                                                           77.0            \n",
       "...                                                                               ...            \n",
       "Venezuela (Bolivarian Republic of)                                               25.0            \n",
       "Viet Nam                                                                         21.0            \n",
       "Yemen                                                                            55.0            \n",
       "Zambia                                                                           58.0            \n",
       "Zimbabwe                                                                         46.0            \n",
       "\n",
       "                                    GDP per capita (current US$) 2018  cluster  \n",
       "Country                                                                         \n",
       "Afghanistan                                                     556.3        0  \n",
       "Albania                                                        4532.9        0  \n",
       "Algeria                                                        4048.3        0  \n",
       "Andorra                                                       39134.4        1  \n",
       "Angola                                                         4095.8        0  \n",
       "...                                                               ...      ...  \n",
       "Venezuela (Bolivarian Republic of)                            16054.5        0  \n",
       "Viet Nam                                                       2365.6        0  \n",
       "Yemen                                                           963.5        0  \n",
       "Zambia                                                         1534.9        0  \n",
       "Zimbabwe                                                       1602.4        0  \n",
       "\n",
       "[189 rows x 3 columns]"
      ]
     },
     "execution_count": 10,
     "metadata": {},
     "output_type": "execute_result"
    }
   ],
   "source": [
    "x_w_clusters = x_no_mv.copy()\n",
    "x_w_clusters['cluster'] = results\n",
    "x_w_clusters"
   ]
  },
  {
   "cell_type": "code",
   "execution_count": 11,
   "metadata": {},
   "outputs": [
    {
     "data": {
      "text/plain": [
       "Text(0.5, 0, 'GDP per capita (current US$) 2018')"
      ]
     },
     "execution_count": 11,
     "metadata": {},
     "output_type": "execute_result"
    },
    {
     "data": {
      "image/png": "[encoded data removed]",
      "text/plain": [
       "<Figure size 432x288 with 1 Axes>"
      ]
     },
     "metadata": {},
     "output_type": "display_data"
    }
   ],
   "source": [
    "plt.scatter(x_w_clusters['GDP per capita (current US$) 2018'],x_w_clusters['Under-5 mortality rate (deaths per 1,000 live births) 2018'],c=x_w_clusters['cluster'],cmap='rainbow')\n",
    "plt.ylabel('Under-5 mortality rate (deaths per 1,000 live births) 2018')\n",
    "plt.xlabel('GDP per capita (current US$) 2018')"
   ]
  },
  {
   "cell_type": "markdown",
   "metadata": {},
   "source": [
    "##### Analysis of plot and clusters"
   ]
  },
  {
   "cell_type": "markdown",
   "metadata": {},
   "source": [
    "There doesn't seem to be much predictive value in the clusters. The two clusters are seperated by GDP because the scale of the GDP is so much greater than the Under-5 mortality rate. The data needs to be standardized and outliers need to be removed before the cluster analysis"
   ]
  },
  {
   "cell_type": "markdown",
   "metadata": {},
   "source": [
    "#### remove outliers, standardize, recluster, and replot"
   ]
  },
  {
   "cell_type": "code",
   "execution_count": 12,
   "metadata": {},
   "outputs": [],
   "source": [
    "q = x_no_mv['GDP per capita (current US$) 2018'].quantile(0.99)\n",
    "x_no_mv = x_no_mv[x_no_mv['GDP per capita (current US$) 2018']<q]"
   ]
  },
  {
   "cell_type": "code",
   "execution_count": 13,
   "metadata": {},
   "outputs": [
    {
     "data": {
      "text/plain": [
       "array([[ 1.16451222, -0.71495298],\n",
       "       [-0.6889454 , -0.48262165],\n",
       "       [-0.19935282, -0.51093422],\n",
       "       [-0.8987708 ,  1.53895776],\n",
       "       [ 1.68907571, -0.50815905],\n",
       "       [-0.7938581 ,  0.17709745],\n",
       "       [-0.65397451,  0.10507158],\n",
       "       [-0.58403271, -0.51875143],\n",
       "       [-0.8637999 ,  2.4129433 ],\n",
       "       [-0.8637999 ,  2.02075052],\n",
       "       [-0.23432372, -0.50516186],\n",
       "       [-0.65397451,  1.11383103],\n",
       "       [-0.7588872 ,  0.63811442],\n",
       "       [ 0.04544347, -0.65607849],\n",
       "       [-0.58403271,  0.20647919],\n",
       "       [-0.8987708 , -0.41082948],\n",
       "       [-0.8637999 ,  1.79443693],\n",
       "       [-0.54906181, -0.45785545],\n",
       "       [ 2.24861008, -0.69911407],\n",
       "       [ 0.04544347, -0.54935424],\n",
       "       [-0.05946923, -0.55166786],\n",
       "       [-0.7938581 , -0.43227715],\n",
       "       [ 0.25526886, -0.28626819],\n",
       "       [-0.51409091, -0.17016679],\n",
       "       [-0.58403271,  0.92185942],\n",
       "       [-0.7588872 , -0.26673684],\n",
       "       [ 1.65410481, -0.70994599],\n",
       "       [ 1.02462863, -0.73033618],\n",
       "       [-0.33923642, -0.55492795],\n",
       "       [-0.02449833, -0.66651897],\n",
       "       [ 1.65410481, -0.66439816],\n",
       "       [-0.828829  ,  1.88573708],\n",
       "       [ 3.05294075, -0.71990155],\n",
       "       [ 3.15785345, -0.70864312],\n",
       "       [-0.7588872 ,  0.13109975],\n",
       "       [-0.6889454 , -0.23571337],\n",
       "       [-0.51409091, -0.37494508],\n",
       "       [ 1.33936672, -0.67077813],\n",
       "       [ 0.74486144, -0.64798084],\n",
       "       [-0.6889454 , -0.06081928],\n",
       "       [ 1.8289593 , -0.65647578],\n",
       "       [-0.828829  ,  0.03448296],\n",
       "       [-0.828829  , -0.24843825],\n",
       "       [-0.9337417 ,  0.75761029],\n",
       "       [-0.8987708 ,  0.44323327],\n",
       "       [ 2.07375559, -0.72016446],\n",
       "       [-0.8637999 ,  2.59553775],\n",
       "       [ 1.05959953, -0.63329873],\n",
       "       [ 0.25526886, -0.34132755],\n",
       "       [ 0.01047257, -0.32547695],\n",
       "       [-0.51409091, -0.38443323],\n",
       "       [-0.26929462, -0.60486932],\n",
       "       [-0.51409091, -0.51947005],\n",
       "       [ 1.96884289, -0.1784923 ],\n",
       "       [ 0.46509425, -0.70004886],\n",
       "       [-0.8987708 ,  0.43274605],\n",
       "       [ 0.88474504, -0.51715059],\n",
       "       [ 0.91971593, -0.70258449],\n",
       "       [-0.09444013, -0.39653297],\n",
       "       [-0.9337417 ,  1.92866749],\n",
       "       [-0.8637999 ,  1.51235703],\n",
       "       [ 0.57000695, -0.32606704],\n",
       "       [ 1.02462863, -0.70814651],\n",
       "       [-0.65397451, -0.51110365],\n",
       "       [-0.8637999 ,  1.86302158],\n",
       "       [ 0.67491964, -0.62909216],\n",
       "       [-0.8637999 ,  0.35580667],\n",
       "       [-0.47912001, -0.15365015],\n",
       "       [-0.09444013, -0.4862615 ],\n",
       "       [ 2.52837727, -0.69944709],\n",
       "       [ 1.8289593 , -0.70441318],\n",
       "       [ 0.04544347, -0.47951346],\n",
       "       [ 1.26942492, -0.70272471],\n",
       "       [-0.37420732, -0.60531334],\n",
       "       [-0.8637999 ,  0.08678468],\n",
       "       [-0.9337417 ,  3.41908532],\n",
       "       [ 0.29023976, -0.63168622],\n",
       "       [-0.12941103, -0.52328518],\n",
       "       [-0.51409091, -0.41865837],\n",
       "       [-0.05946923, -0.44693589],\n",
       "       [-0.8637999 ,  3.2804437 ],\n",
       "       [-0.8637999 ,  1.62128973],\n",
       "       [-0.8987708 ,  1.13120067],\n",
       "       [-0.51409091, -0.45179682],\n",
       "       [-0.9337417 ,  1.49207785],\n",
       "       [-0.44414911, -0.50390573],\n",
       "       [-0.65397451, -0.21986277],\n",
       "       [ 0.43012335, -0.65583311],\n",
       "       [ 0.84977414, -0.65247954],\n",
       "       [-0.7239163 ,  0.9745818 ],\n",
       "       [-0.33923642, -0.67484448],\n",
       "       [ 0.63994874, -0.60584501],\n",
       "       [-0.8637999 ,  0.16891216],\n",
       "       [-0.7588872 , -0.28950492],\n",
       "       [ 1.8289593 , -0.67542873],\n",
       "       [ 1.47925031, -0.70663331],\n",
       "       [-0.58403271, -0.40905337],\n",
       "       [-0.8637999 ,  0.23463986],\n",
       "       [ 0.88474504, -0.721257  ],\n",
       "       [ 0.74486144, -0.72661453],\n",
       "       [-0.7239163 , -0.15633768],\n",
       "       [-0.6889454 , -0.17479986],\n",
       "       [ 2.42346458, -0.69904396],\n",
       "       [-0.7588872 ,  0.84409625],\n",
       "       [ 0.15035616, -0.54199274],\n",
       "       [ 1.65410481, -0.67957687],\n",
       "       [-0.44414911, -0.13487832],\n",
       "       [-0.54906181, -0.20520988],\n",
       "       [ 0.08041437, -0.57110573],\n",
       "       [-0.44414911, -0.53292524],\n",
       "       [-0.8987708 , -0.29267153],\n",
       "       [-0.23432372, -0.57006577],\n",
       "       [ 1.54919211, -0.72165428],\n",
       "       [ 0.60497785, -0.67443551],\n",
       "       [ 0.39515245, -0.41755999],\n",
       "       [ 0.11538526, -0.23072391],\n",
       "       [ 0.11538526, -0.69483738],\n",
       "       [-0.8637999 ,  2.08513445],\n",
       "       [-0.7938581 ,  1.72157559],\n",
       "       [-0.37420732, -0.62077834],\n",
       "       [ 1.933872  , -0.72549278],\n",
       "       [ 3.19282435, -0.63243989],\n",
       "       [-0.65397451, -0.43093339],\n",
       "       [-0.8987708 ,  3.67553434],\n",
       "       [-0.61900361,  0.13887022],\n",
       "       [ 1.40930852, -0.66175737],\n",
       "       [-0.37420732,  0.20340021],\n",
       "       [-0.47912001,  0.138619  ],\n",
       "       [ 0.67491964, -0.59320192],\n",
       "       [-0.30426552, -0.41556771],\n",
       "       [-0.51409091, -0.35596292],\n",
       "       [-0.02449833, -0.57323823],\n",
       "       [-0.8637999 ,  0.06237487],\n",
       "       [-0.8637999 ,  0.49648731],\n",
       "       [-0.7588872 ,  2.83189455],\n",
       "       [-0.8987708 ,  0.99025712],\n",
       "       [-0.44414911, -0.58827672],\n",
       "       [-0.7588872 , -0.1168777 ],\n",
       "       [-0.7588872 , -0.1193549 ],\n",
       "       [ 0.22029796, -0.70290582],\n",
       "       [-0.44414911, -0.32974195],\n",
       "       [-0.44414911, -0.49577303],\n",
       "       [-0.9337417 ,  2.08582386],\n",
       "       [ 0.08041437, -0.64164761],\n",
       "       [-0.7588872 ,  0.46799362],\n",
       "       [ 0.53503605, -0.66757646],\n",
       "       [-0.7938581 , -0.38030261],\n",
       "       [-0.51409091,  0.16885958],\n",
       "       [ 2.66826087, -0.71827734],\n",
       "       [-0.8987708 ,  2.77542131],\n",
       "       [-0.7938581 ,  0.27960928],\n",
       "       [-0.9337417 ,  0.62257932],\n",
       "       [-0.30426552, -0.62610082],\n",
       "       [ 3.26276615, -0.71890833],\n",
       "       [ 0.18532706, -0.38986672],\n",
       "       [ 2.45843548, -0.73089122],\n",
       "       [-0.8987708 ,  0.90060454],\n",
       "       [-0.7588872 , -0.50764491],\n",
       "       [-0.30426552, -0.55731168],\n",
       "       [ 1.09457043, -0.57130437],\n",
       "       [-0.33923642, -0.43318273],\n",
       "       [-0.8987708 ,  2.36386078],\n",
       "       [-0.8637999 ,  3.94599358],\n",
       "       [ 0.22029796, -0.70036435],\n",
       "       [-0.6889454 , -0.36312578],\n",
       "       [ 0.60497785, -0.63057031],\n",
       "       [ 1.44427941, -0.71128391],\n",
       "       [-0.44414911, -0.50104877],\n",
       "       [-0.37420732,  0.1917854 ],\n",
       "       [-0.40917822, -0.54330145],\n",
       "       [-0.61900361, -0.13401364],\n",
       "       [ 0.60497785, -0.3626058 ],\n",
       "       [-0.16438192, -0.53872681],\n",
       "       [ 0.60497785, -0.71055945],\n",
       "       [-0.6889454 , -0.59317271],\n",
       "       [-0.7239163 ,  1.60854148],\n",
       "       [-0.8637999 ,  1.58556308],\n",
       "       [ 0.84977414, -0.68874954],\n",
       "       [-0.7588872 ,  2.75381004],\n",
       "       [-0.7239163 ,  0.21288253],\n",
       "       [-0.26929462, -0.64073619],\n",
       "       [-0.09444013, -0.57357709],\n",
       "       [-0.12941103,  0.19052343],\n",
       "       [-0.26929462, -0.60924532],\n",
       "       [ 0.91971593, -0.69116248],\n",
       "       [ 1.02462863, -0.65777865],\n",
       "       [ 0.60497785, -0.65383499]])"
      ]
     },
     "execution_count": 13,
     "metadata": {},
     "output_type": "execute_result"
    }
   ],
   "source": [
    "from sklearn import preprocessing\n",
    "x_scaled = preprocessing.scale(x_no_mv)\n",
    "x_scaled"
   ]
  },
  {
   "cell_type": "code",
   "execution_count": 14,
   "metadata": {},
   "outputs": [],
   "source": [
    "kmeans_new = KMeans(2)\n",
    "kmeans_new.fit(x_scaled)\n",
    "clusters_new = x_no_mv.copy()\n",
    "clusters_new['cluster'] = kmeans_new.fit_predict(x_scaled)"
   ]
  },
  {
   "cell_type": "code",
   "execution_count": 15,
   "metadata": {},
   "outputs": [
    {
     "data": {
      "text/plain": [
       "Text(0.5, 0, 'GDP per capita (current US$) 2018')"
      ]
     },
     "execution_count": 15,
     "metadata": {},
     "output_type": "execute_result"
    },
    {
     "data": {
      "image/png": "[encoded data removed]",
      "text/plain": [
       "<Figure size 432x288 with 1 Axes>"
      ]
     },
     "metadata": {},
     "output_type": "display_data"
    }
   ],
   "source": [
    "plt.scatter(x_no_mv['GDP per capita (current US$) 2018'],x_no_mv['Under-5 mortality rate (deaths per 1,000 live births) 2018'],c=clusters_new['cluster'],cmap='rainbow')\n",
    "plt.ylabel('Under-5 mortality rate (deaths per 1,000 live births) 2018')\n",
    "plt.xlabel('GDP per capita (current US$) 2018')"
   ]
  },
  {
   "cell_type": "markdown",
   "metadata": {},
   "source": [
    "Note that the graph is of the unscaled data, however the clusters were determined using scaled data"
   ]
  },
  {
   "cell_type": "markdown",
   "metadata": {},
   "source": [
    "##### Analysis of plot and clusters"
   ]
  },
  {
   "cell_type": "markdown",
   "metadata": {},
   "source": [
    "Now that the outliers of GDP have been removed and the data was standardized before it was clustered, the cluster analysis is more revealing. The graph still seems to follow a f(x)=1/x pattern. This means that as GDP increases, Under-5 mortality rate drastically decreases. The clusters however are still not very descriptive of the data. They could be labelled as \"Countries with low GDP's per capita\" and \"Countries with high GDP's per capita\""
   ]
  },
  {
   "cell_type": "markdown",
   "metadata": {},
   "source": [
    "#### 3 clusters"
   ]
  },
  {
   "cell_type": "markdown",
   "metadata": {},
   "source": [
    "Since it is obvious from the two cluster solution that outliers in GDP need to be removed and the data needs to be standardized before it is clustered, we will use that previous work in this section"
   ]
  },
  {
   "cell_type": "code",
   "execution_count": 16,
   "metadata": {},
   "outputs": [],
   "source": [
    "kmeans_new = KMeans(3)\n",
    "kmeans_new.fit(x_scaled)\n",
    "clusters_new = x_no_mv.copy()\n",
    "clusters_new['cluster'] = kmeans_new.fit_predict(x_scaled)"
   ]
  },
  {
   "cell_type": "code",
   "execution_count": 17,
   "metadata": {},
   "outputs": [
    {
     "data": {
      "text/plain": [
       "Text(0.5, 0, 'GDP per capita (current US$) 2018')"
      ]
     },
     "execution_count": 17,
     "metadata": {},
     "output_type": "execute_result"
    },
    {
     "data": {
      "image/png": "[encoded data removed]",
      "text/plain": [
       "<Figure size 432x288 with 1 Axes>"
      ]
     },
     "metadata": {},
     "output_type": "display_data"
    }
   ],
   "source": [
    "plt.scatter(x_no_mv['GDP per capita (current US$) 2018'],x_no_mv['Under-5 mortality rate (deaths per 1,000 live births) 2018'],c=clusters_new['cluster'],cmap='rainbow')\n",
    "plt.ylabel('Under-5 mortality rate (deaths per 1,000 live births) 2018')\n",
    "plt.xlabel('GDP per capita (current US$) 2018')"
   ]
  },
  {
   "cell_type": "markdown",
   "metadata": {},
   "source": [
    "##### Analysis of plot and clusters"
   ]
  },
  {
   "cell_type": "markdown",
   "metadata": {},
   "source": [
    "This cluster analysis is better for describing the real relationship between the data. The three clusters could now be labelled as \"Countries with low GDP per capita and high Under-5 mortality rates\", \"Countries with low-medium GDP per capita and low Under-5 mortality rates\", and \"Countries with high GDP per capita and low Under-5 mortality rates\". These groupings fit much better with the assertion that as GDP per capita increases, under-5 mortality rates drastically decrease "
   ]
  },
  {
   "cell_type": "code",
   "execution_count": null,
   "metadata": {},
   "outputs": [],
   "source": []
  }
 ],
 "metadata": {
  "kernelspec": {
   "display_name": "Python 3",
   "language": "python",
   "name": "python3"
  },
  "language_info": {
   "codemirror_mode": {
    "name": "ipython",
    "version": 3
   },
   "file_extension": ".py",
   "mimetype": "text/x-python",
   "name": "python",
   "nbconvert_exporter": "python",
   "pygments_lexer": "ipython3",
   "version": "3.7.6"
  }
 },
 "nbformat": 4,
 "nbformat_minor": 4
}
